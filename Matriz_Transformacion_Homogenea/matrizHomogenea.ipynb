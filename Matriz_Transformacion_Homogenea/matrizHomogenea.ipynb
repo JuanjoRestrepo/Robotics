{
 "cells": [
  {
   "cell_type": "code",
   "execution_count": 36,
   "metadata": {},
   "outputs": [],
   "source": [
    "import numpy as np\n",
    "import matplotlib.pyplot as plt\n",
    "from mpl_toolkits.mplot3d import Axes3D"
   ]
  },
  {
   "attachments": {},
   "cell_type": "markdown",
   "metadata": {},
   "source": [
    "Parametros D.H."
   ]
  },
  {
   "cell_type": "code",
   "execution_count": 37,
   "metadata": {},
   "outputs": [],
   "source": [
    "a1 = 200\n",
    "tethaR1 = 45\n",
    "b1 = 0\n",
    "alphaR1 = 0\n",
    "\n",
    "a2 = 150\n",
    "tethaR2 = -45\n",
    "b2 = 0\n",
    "alphaR2 = 0\n",
    "\n",
    "a3 = 50\n",
    "tethaR3 = -90\n",
    "b3 = 0\n",
    "alphaR3 = 0"
   ]
  },
  {
   "attachments": {},
   "cell_type": "markdown",
   "metadata": {},
   "source": [
    "Conversion Radianes a Grados"
   ]
  },
  {
   "cell_type": "code",
   "execution_count": 38,
   "metadata": {},
   "outputs": [],
   "source": [
    "tetha1 = (tethaR1*np.pi)/180\n",
    "alpha1 = (alphaR1*np.pi)/180\n",
    "\n",
    "tetha2 = (tethaR2*np.pi)/180\n",
    "alpha2 = (alphaR2*np.pi)/180\n",
    "\n",
    "tetha3 = (tethaR3*np.pi)/180\n",
    "alpha3 = (alphaR3*np.pi)/180"
   ]
  },
  {
   "attachments": {},
   "cell_type": "markdown",
   "metadata": {},
   "source": [
    "Matrices de Transformacion Homegenea"
   ]
  },
  {
   "cell_type": "code",
   "execution_count": 39,
   "metadata": {},
   "outputs": [],
   "source": [
    "# Parametros b ( desplazamiento en el eje Z )\n",
    "\n",
    "Tb1 = [[1, 0, 0, 0],\n",
    "      [0, 1, 0, 0],\n",
    "      [0, 0, 1, b1],\n",
    "      [0, 0, 0, 1]]\n",
    "\n",
    "Tb2 = [[1, 0, 0, 0],\n",
    "      [0, 1, 0, 0],\n",
    "      [0, 0, 1, b2],\n",
    "      [0, 0, 0, 1]]\n",
    "\n",
    "Tb3 = [[1, 0, 0, 0],\n",
    "      [0, 1, 0, 0],\n",
    "      [0, 0, 1, b3],\n",
    "      [0, 0, 0, 1]]"
   ]
  },
  {
   "cell_type": "code",
   "execution_count": 40,
   "metadata": {},
   "outputs": [],
   "source": [
    "# Parametros Tetha ( Rotacion en el eje Z )\n",
    "\n",
    "Ttetha1 = [[np.cos(tetha1), -np.sin(tetha1), 0, 0],\n",
    "          [np.sin(tetha1), np.cos(tetha1), 0, 0],\n",
    "          [0, 0, 1, 0],\n",
    "          [0, 0, 0, 1]]\n",
    "\n",
    "Ttetha2 = [[np.cos(tetha2), -np.sin(tetha2), 0, 0],\n",
    "          [np.sin(tetha2), np.cos(tetha2), 0, 0],\n",
    "          [0, 0, 1, 0],\n",
    "          [0, 0, 0, 1]]\n",
    "Ttetha3 = [[np.cos(tetha3), -np.sin(tetha3), 0, 0],\n",
    "          [np.sin(tetha3), np.cos(tetha3), 0, 0],\n",
    "          [0, 0, 1, 0],\n",
    "          [0, 0, 0, 1]]"
   ]
  },
  {
   "cell_type": "code",
   "execution_count": 41,
   "metadata": {},
   "outputs": [],
   "source": [
    "# Parametros a ( desplazamiento del eslabon en el eje X  )\n",
    "\n",
    "Ta1 = [[1, 0, 0, a1],\n",
    "      [0, 1, 0, 0],\n",
    "      [0, 0, 1, 0],\n",
    "      [0, 0, 0, 1]]\n",
    "\n",
    "Ta2 = [[1, 0, 0, a2],\n",
    "      [0, 1, 0, 0],\n",
    "      [0, 0, 1, 0],\n",
    "      [0, 0, 0, 1]]\n",
    "\n",
    "Ta3 = [[1, 0, 0, a3],\n",
    "      [0, 1, 0, 0],\n",
    "      [0, 0, 1, 0],\n",
    "      [0, 0, 0, 1]]"
   ]
  },
  {
   "cell_type": "code",
   "execution_count": 42,
   "metadata": {},
   "outputs": [],
   "source": [
    "Talpha1 = [[1, 0, 0, 0],\n",
    "         [0, np.cos(alpha1), -np.sin(alpha1), 0],\n",
    "          [0, np.sin(alpha1), np.cos(alpha1), 0],\n",
    "          [0, 0, 0, 1]]\n",
    "\n",
    "Talpha2 = [[1, 0, 0, 0],\n",
    "         [0, np.cos(alpha2), -np.sin(alpha2), 0],\n",
    "          [0, np.sin(alpha2), np.cos(alpha2), 0],\n",
    "          [0, 0, 0, 1]]\n",
    "\n",
    "Talpha3 = [[1, 0, 0, 0],\n",
    "         [0, np.cos(alpha3), -np.sin(alpha3), 0],\n",
    "          [0, np.sin(alpha3), np.cos(alpha3), 0],\n",
    "          [0, 0, 0, 1]]"
   ]
  },
  {
   "attachments": {},
   "cell_type": "markdown",
   "metadata": {},
   "source": [
    "T1->0 = TL1 * TL0\n",
    "\n",
    "TL1 = T_tras_b1 * T_rota_tetha1 * T_tras_a1 * T_rota_alpha1\n",
    "\n",
    "TL0 = T_tras_b2 * T_rota_tetha2 * T_tras_a2 * T_rota_alpha2"
   ]
  },
  {
   "cell_type": "code",
   "execution_count": 43,
   "metadata": {},
   "outputs": [
    {
     "name": "stdout",
     "output_type": "stream",
     "text": [
      "\n",
      "Matriz de Transformacion T1 -> 0 (TL1): (a1 = 200 mm, b1 = 0, tetha1 = 45°, alpha1 = 0°)\n",
      "\n",
      " [[  0.707  -0.707   0.    141.421]\n",
      " [  0.707   0.707   0.    141.421]\n",
      " [  0.      0.      1.      0.   ]\n",
      " [  0.      0.      0.      1.   ]]\n"
     ]
    }
   ],
   "source": [
    "#T1_1 = np.dot(Tb1, Ttetha1)\n",
    "#T1_2 = np.dot(T1_1, Ta1)\n",
    "#T1_a_0 = np.dot(T1_2, Talpha1)\n",
    "\n",
    "T1_a_0 = np.dot(np.dot(np.dot(Tb1, Ttetha1), Ta1), Talpha1)\n",
    "\n",
    "print(\"\\nMatriz de Transformacion T1 -> 0 (TL1): (a1 = {} mm, b1 = {}, tetha1 = {}°, alpha1 = {}°)\\n\\n\" .format(a1, b1, tethaR1, alphaR1), np.matrix(T1_a_0).round(3) )"
   ]
  },
  {
   "attachments": {},
   "cell_type": "markdown",
   "metadata": {},
   "source": [
    "T2->1"
   ]
  },
  {
   "cell_type": "code",
   "execution_count": 44,
   "metadata": {},
   "outputs": [
    {
     "name": "stdout",
     "output_type": "stream",
     "text": [
      "\n",
      "Matriz de Transformacion T2 -> 1 (TL2): (a2 = 150 mm, b2 = 0, tetha2 = -45°, alpha2 = 0°)\n",
      " [[   0.707    0.707    0.     106.066]\n",
      " [  -0.707    0.707    0.    -106.066]\n",
      " [   0.       0.       1.       0.   ]\n",
      " [   0.       0.       0.       1.   ]]\n"
     ]
    }
   ],
   "source": [
    "#T2_1 = np.dot(Tb2, Ttetha2)\n",
    "#T2_2 = np.dot(T2_1, Ta2)\n",
    "\n",
    "T2_a_1 = np.dot(np.dot(np.dot(Tb2, Ttetha2), Ta2), Talpha2)\n",
    "\n",
    "print(\"\\nMatriz de Transformacion T2 -> 1 (TL2): (a2 = {} mm, b2 = {}, tetha2 = {}°, alpha2 = {}°)\\n\".format(a2, b2, tethaR2, alphaR2), np.matrix(T2_a_1).round(3) )"
   ]
  },
  {
   "attachments": {},
   "cell_type": "markdown",
   "metadata": {},
   "source": [
    "T3->2"
   ]
  },
  {
   "cell_type": "code",
   "execution_count": 45,
   "metadata": {},
   "outputs": [
    {
     "name": "stdout",
     "output_type": "stream",
     "text": [
      "\n",
      "Matriz de Transformacion T3 -> 2 (TL3): (a3 = 50 mm, b3 = 0, tetha3 = -90°, alpha3 = 0°)\n",
      "\n",
      " [[  0.   1.   0.   0.]\n",
      " [ -1.   0.   0. -50.]\n",
      " [  0.   0.   1.   0.]\n",
      " [  0.   0.   0.   1.]]\n"
     ]
    }
   ],
   "source": [
    "#T3_1 = np.dot(Tb3, Ttetha3)\n",
    "#T3_2 = np.dot(T3_1, Ta3)\n",
    "\n",
    "T3_a_2 = np.dot(np.dot(np.dot(Tb3, Ttetha3), Ta3), Talpha3)\n",
    "\n",
    "print(\"\\nMatriz de Transformacion T3 -> 2 (TL3): (a3 = {} mm, b3 = {}, tetha3 = {}°, alpha3 = {}°)\\n\\n\".format(a3, b3, tethaR3, alphaR3), np.matrix(T3_a_2).round(3)  )"
   ]
  },
  {
   "cell_type": "code",
   "execution_count": 46,
   "metadata": {},
   "outputs": [
    {
     "name": "stdout",
     "output_type": "stream",
     "text": [
      "\n",
      "Matriz de Transformacion TF (0 -> 3):\n",
      "\n",
      " [[  0.      1.      0.    291.421]\n",
      " [ -1.      0.      0.     91.421]\n",
      " [  0.      0.      1.      0.   ]\n",
      " [  0.      0.      0.      1.   ]]\n"
     ]
    }
   ],
   "source": [
    "T10_21 = np.dot(T1_a_0, T2_a_1)\n",
    "Tfinal = np.dot(np.dot(T1_a_0, T2_a_1), T3_a_2) \n",
    "\n",
    "print(\"\\nMatriz de Transformacion TF (0 -> 3):\\n\\n\", np.matrix(Tfinal).round(3) )"
   ]
  },
  {
   "attachments": {},
   "cell_type": "markdown",
   "metadata": {},
   "source": [
    "Obtenemos los puntos P3, P2 y P1"
   ]
  },
  {
   "cell_type": "code",
   "execution_count": 49,
   "metadata": {},
   "outputs": [],
   "source": [
    "P3 = Tfinal[:3, 3]\n",
    "P2 = np.array([ 291.42, 141.42, 0. ])\n",
    "\n",
    "# Define the matrix equation\n",
    "A = T3_a_2[:3, :3]\n",
    "b = P3\n",
    "x = np.linalg.solve(A, P2 - T3_a_2[:3, 3])\n",
    "\n",
    "# Construct the transformation matrix\n",
    "TL3 = np.identity(4)\n",
    "TL3[:3, :3] = A\n",
    "TL3[:3, 3] = x\n"
   ]
  },
  {
   "cell_type": "code",
   "execution_count": 48,
   "metadata": {},
   "outputs": [
    {
     "ename": "ValueError",
     "evalue": "cannot reshape array of size 3 into shape (4,1)",
     "output_type": "error",
     "traceback": [
      "\u001b[1;31m---------------------------------------------------------------------------\u001b[0m",
      "\u001b[1;31mValueError\u001b[0m                                Traceback (most recent call last)",
      "\u001b[1;32mc:\\Users\\Juan Jose Restrepo\\Desktop\\Robotics\\Matriz_Transformacion_Homogenea\\matrizHomogenea.ipynb Cell 20\u001b[0m in \u001b[0;36m<cell line: 2>\u001b[1;34m()\u001b[0m\n\u001b[0;32m      <a href='vscode-notebook-cell:/c%3A/Users/Juan%20Jose%20Restrepo/Desktop/Robotics/Matriz_Transformacion_Homogenea/matrizHomogenea.ipynb#X25sZmlsZQ%3D%3D?line=0'>1</a>\u001b[0m \u001b[39m#Volviendo P3 1x3 a una matriz 3x1\u001b[39;00m\n\u001b[1;32m----> <a href='vscode-notebook-cell:/c%3A/Users/Juan%20Jose%20Restrepo/Desktop/Robotics/Matriz_Transformacion_Homogenea/matrizHomogenea.ipynb#X25sZmlsZQ%3D%3D?line=1'>2</a>\u001b[0m NewP3 \u001b[39m=\u001b[39m P3\u001b[39m.\u001b[39;49mreshape((\u001b[39m4\u001b[39;49m, \u001b[39m1\u001b[39;49m))\n\u001b[0;32m      <a href='vscode-notebook-cell:/c%3A/Users/Juan%20Jose%20Restrepo/Desktop/Robotics/Matriz_Transformacion_Homogenea/matrizHomogenea.ipynb#X25sZmlsZQ%3D%3D?line=2'>3</a>\u001b[0m NewP3_2 \u001b[39m=\u001b[39m np\u001b[39m.\u001b[39marray(NewP3)\n\u001b[0;32m      <a href='vscode-notebook-cell:/c%3A/Users/Juan%20Jose%20Restrepo/Desktop/Robotics/Matriz_Transformacion_Homogenea/matrizHomogenea.ipynb#X25sZmlsZQ%3D%3D?line=3'>4</a>\u001b[0m \u001b[39mprint\u001b[39m(\u001b[39m\"\u001b[39m\u001b[39m\\n\u001b[39;00m\u001b[39mNew P3: \u001b[39m\u001b[39m\"\u001b[39m, NewP3)\n",
      "\u001b[1;31mValueError\u001b[0m: cannot reshape array of size 3 into shape (4,1)"
     ]
    }
   ],
   "source": [
    "#Volviendo P3 1x3 a una matriz 3x1\n",
    "NewP3 = P3.reshape((4, 1))\n",
    "NewP3_2 = np.array(NewP3)\n",
    "print(\"\\nNew P3: \", NewP3)\n",
    "\n",
    "P2 = np.dot(T3_a_2, P3)\n",
    "print(\"\\nP2: \", P2)"
   ]
  }
 ],
 "metadata": {
  "kernelspec": {
   "display_name": "Python 3",
   "language": "python",
   "name": "python3"
  },
  "language_info": {
   "codemirror_mode": {
    "name": "ipython",
    "version": 3
   },
   "file_extension": ".py",
   "mimetype": "text/x-python",
   "name": "python",
   "nbconvert_exporter": "python",
   "pygments_lexer": "ipython3",
   "version": "3.10.4"
  },
  "orig_nbformat": 4,
  "vscode": {
   "interpreter": {
    "hash": "833ae54a1c4d6b501075c8cad16e0b637721bd5d7dccdd8aa0275ca48ae6a6ef"
   }
  }
 },
 "nbformat": 4,
 "nbformat_minor": 2
}
