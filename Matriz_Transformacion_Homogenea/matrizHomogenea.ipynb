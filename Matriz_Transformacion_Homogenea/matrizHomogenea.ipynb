{
 "cells": [
  {
   "cell_type": "code",
   "execution_count": 22,
   "metadata": {},
   "outputs": [],
   "source": [
    "import numpy as np\n",
    "import matplotlib.pyplot as plt\n",
    "from mpl_toolkits.mplot3d import Axes3D"
   ]
  },
  {
   "attachments": {},
   "cell_type": "markdown",
   "metadata": {},
   "source": [
    "Parametros D.H."
   ]
  },
  {
   "cell_type": "code",
   "execution_count": 23,
   "metadata": {},
   "outputs": [],
   "source": [
    "#Angulos en Grados, distancias en mm\n",
    "b1 = 0\n",
    "tetha1R = 45\n",
    "a1 = 200\n",
    "alpha1R = 0\n",
    "\n",
    "b2 = 0\n",
    "tetha2R = -45 \n",
    "a2 = 150\n",
    "alpha2R = 0\n",
    "\n",
    "b3 = 0\n",
    "tetha3R = -90\n",
    "a3 = 50\n",
    "alpha3R = 0"
   ]
  },
  {
   "attachments": {},
   "cell_type": "markdown",
   "metadata": {},
   "source": [
    "Conversion Grados a Radianes"
   ]
  },
  {
   "cell_type": "code",
   "execution_count": 24,
   "metadata": {},
   "outputs": [
    {
     "name": "stdout",
     "output_type": "stream",
     "text": [
      "tetha 1: 0.7853981633974483 rads\n",
      "alpha 1: 0.0 rads\n",
      "\n",
      "tetha 2: -0.7853981633974483 rads\n",
      "alpha 2: 0.0 rads\n",
      "\n",
      "tetha 3: -1.5707963267948966 rads\n",
      "alpha 3: 0.0 rads\n"
     ]
    }
   ],
   "source": [
    "tetha1 = (tetha1R*np.pi)/180\n",
    "alpha1 = (alpha1R*np.pi)/180\n",
    "\n",
    "tetha2 = (tetha2R*np.pi)/180\n",
    "alpha2 = (alpha2R*np.pi)/180\n",
    "\n",
    "tetha3 = (tetha3R*np.pi)/180\n",
    "alpha3 = (alpha3R*np.pi)/180\n",
    "\n",
    "print(\"tetha 1: {} rads\\nalpha 1: {} rads\".format(tetha1, alpha1) )\n",
    "print(\"\\ntetha 2: {} rads\\nalpha 2: {} rads\".format(tetha2, alpha2) )\n",
    "print(\"\\ntetha 3: {} rads\\nalpha 3: {} rads\".format(tetha3, alpha3) )\n"
   ]
  },
  {
   "attachments": {},
   "cell_type": "markdown",
   "metadata": {},
   "source": [
    "Matrices de Transformacion Homegenea"
   ]
  },
  {
   "cell_type": "code",
   "execution_count": 25,
   "metadata": {},
   "outputs": [],
   "source": [
    "# Parametros b ( desplazamiento en el eje Z )\n",
    "\n",
    "Tb1 = [[1, 0, 0, 0],\n",
    "      [0, 1, 0, 0],\n",
    "      [0, 0, 1, b1],\n",
    "      [0, 0, 0, 1]]\n",
    "\n",
    "Tb2 = [[1, 0, 0, 0],\n",
    "      [0, 1, 0, 0],\n",
    "      [0, 0, 1, b2],\n",
    "      [0, 0, 0, 1]]\n",
    "\n",
    "Tb3 = [[1, 0, 0, 0],\n",
    "      [0, 1, 0, 0],\n",
    "      [0, 0, 1, b3],\n",
    "      [0, 0, 0, 1]]"
   ]
  },
  {
   "cell_type": "code",
   "execution_count": 26,
   "metadata": {},
   "outputs": [
    {
     "name": "stdout",
     "output_type": "stream",
     "text": [
      "Ttetha1:\n",
      " [[ 0.70710678 -0.70710678  0.          0.        ]\n",
      " [ 0.70710678  0.70710678  0.          0.        ]\n",
      " [ 0.          0.          1.          0.        ]\n",
      " [ 0.          0.          0.          1.        ]]\n",
      "\n",
      "Ttetha2:\n",
      " [[ 0.70710678  0.70710678  0.          0.        ]\n",
      " [-0.70710678  0.70710678  0.          0.        ]\n",
      " [ 0.          0.          1.          0.        ]\n",
      " [ 0.          0.          0.          1.        ]]\n",
      "\n",
      "Ttetha3:\n",
      " [[ 0.  1.  0.  0.]\n",
      " [-1.  0.  0.  0.]\n",
      " [ 0.  0.  1.  0.]\n",
      " [ 0.  0.  0.  1.]]\n"
     ]
    }
   ],
   "source": [
    "# Parametros Tetha ( Rotacion en el eje Z )\n",
    "\n",
    "Ttetha1 = [[np.cos(tetha1), -np.sin(tetha1), 0, 0],\n",
    "          [np.sin(tetha1), np.cos(tetha1), 0, 0],\n",
    "          [0, 0, 1, 0],\n",
    "          [0, 0, 0, 1]]\n",
    "\n",
    "Ttetha2 = [[np.cos(tetha2), -np.sin(tetha2), 0, 0],\n",
    "          [np.sin(tetha2), np.cos(tetha2), 0, 0],\n",
    "          [0, 0, 1, 0],\n",
    "          [0, 0, 0, 1]]\n",
    "Ttetha3 = [[np.cos(tetha3), -np.sin(tetha3), 0, 0],\n",
    "          [np.sin(tetha3), np.cos(tetha3), 0, 0],\n",
    "          [0, 0, 1, 0],\n",
    "          [0, 0, 0, 1]]\n",
    "\n",
    "print(\"Ttetha1:\\n\", np.matrix(Ttetha1) )\n",
    "print(\"\\nTtetha2:\\n\", np.matrix(Ttetha2) )\n",
    "print(\"\\nTtetha3:\\n\", np.matrix(Ttetha3).round(3) )"
   ]
  },
  {
   "cell_type": "code",
   "execution_count": 27,
   "metadata": {},
   "outputs": [],
   "source": [
    "# Parametros a ( desplazamiento del eslabon en el eje X  )\n",
    "\n",
    "Ta1 = [[1, 0, 0, a1],\n",
    "      [0, 1, 0, 0],\n",
    "      [0, 0, 1, 0],\n",
    "      [0, 0, 0, 1]]\n",
    "\n",
    "Ta2 = [[1, 0, 0, a2],\n",
    "      [0, 1, 0, 0],\n",
    "      [0, 0, 1, 0],\n",
    "      [0, 0, 0, 1]]\n",
    "\n",
    "Ta3 = [[1, 0, 0, a3],\n",
    "      [0, 1, 0, 0],\n",
    "      [0, 0, 1, 0],\n",
    "      [0, 0, 0, 1]]"
   ]
  },
  {
   "cell_type": "code",
   "execution_count": 28,
   "metadata": {},
   "outputs": [
    {
     "name": "stdout",
     "output_type": "stream",
     "text": [
      "Talpha1:\n",
      " [[ 1.  0.  0.  0.]\n",
      " [ 0.  1. -0.  0.]\n",
      " [ 0.  0.  1.  0.]\n",
      " [ 0.  0.  0.  1.]]\n",
      "\n",
      "Talpha2:\n",
      " [[ 1.  0.  0.  0.]\n",
      " [ 0.  1. -0.  0.]\n",
      " [ 0.  0.  1.  0.]\n",
      " [ 0.  0.  0.  1.]]\n",
      "\n",
      "Talpha3:\n",
      " [[ 1.  0.  0.  0.]\n",
      " [ 0.  1. -0.  0.]\n",
      " [ 0.  0.  1.  0.]\n",
      " [ 0.  0.  0.  1.]]\n"
     ]
    }
   ],
   "source": [
    "Talpha1 = [[1, 0, 0, 0],\n",
    "         [0, np.cos(alpha1), -np.sin(alpha1), 0],\n",
    "          [0, np.sin(alpha1), np.cos(alpha1), 0],\n",
    "          [0, 0, 0, 1]]\n",
    "\n",
    "Talpha2 = [[1, 0, 0, 0],\n",
    "         [0, np.cos(alpha2), -np.sin(alpha2), 0],\n",
    "          [0, np.sin(alpha2), np.cos(alpha2), 0],\n",
    "          [0, 0, 0, 1]]\n",
    "\n",
    "Talpha3 = [[1, 0, 0, 0],\n",
    "         [0, np.cos(alpha3), -np.sin(alpha3), 0],\n",
    "          [0, np.sin(alpha3), np.cos(alpha3), 0],\n",
    "          [0, 0, 0, 1]]\n",
    "\n",
    "print(\"Talpha1:\\n\", np.matrix(Talpha1) )\n",
    "print(\"\\nTalpha2:\\n\", np.matrix(Talpha2) )\n",
    "print(\"\\nTalpha3:\\n\", np.matrix(Talpha3).round(3) )"
   ]
  },
  {
   "attachments": {},
   "cell_type": "markdown",
   "metadata": {},
   "source": [
    "T1->0 = TL1 * TL0\n",
    "\n",
    "TL1 = T_tras_b1 * T_rota_tetha1 * T_tras_a1 * T_rota_alpha1\n",
    "\n",
    "TL0 = T_tras_b2 * T_rota_tetha2 * T_tras_a2 * T_rota_alpha2"
   ]
  },
  {
   "cell_type": "code",
   "execution_count": 29,
   "metadata": {},
   "outputs": [
    {
     "name": "stdout",
     "output_type": "stream",
     "text": [
      "\n",
      "Matriz de Transformacion T1 -> 0 (TL1): (a1 = 200 mm, b1 = 0, tetha1 = 45°, alpha1 = 0°)\n",
      "\n",
      " [[  0.707  -0.707   0.    141.421]\n",
      " [  0.707   0.707   0.    141.421]\n",
      " [  0.      0.      1.      0.   ]\n",
      " [  0.      0.      0.      1.   ]]\n"
     ]
    }
   ],
   "source": [
    "#T1_1 = np.dot(Tb1, Ttetha1)\n",
    "#T1_2 = np.dot(T1_1, Ta1)\n",
    "#T1_a_0 = np.dot(T1_2, Talpha1)\n",
    "\n",
    "T1_a_0 = np.dot(np.dot(np.dot(Tb1, Ttetha1), Ta1), Talpha1)\n",
    "\n",
    "print(\"\\nMatriz de Transformacion T1 -> 0 (TL1): (a1 = {} mm, b1 = {}, tetha1 = {}°, alpha1 = {}°)\\n\\n\" .format(a1, b1, tetha1R, alpha1R), np.matrix(T1_a_0).round(3) )"
   ]
  },
  {
   "attachments": {},
   "cell_type": "markdown",
   "metadata": {},
   "source": [
    "T2->1"
   ]
  },
  {
   "cell_type": "code",
   "execution_count": 30,
   "metadata": {},
   "outputs": [
    {
     "name": "stdout",
     "output_type": "stream",
     "text": [
      "\n",
      "Matriz de Transformacion T2 -> 1 (TL2): (a2 = 150 mm, b2 = 0, tetha2 = -45°, alpha2 = 0°)\n",
      " [[   0.707    0.707    0.     106.066]\n",
      " [  -0.707    0.707    0.    -106.066]\n",
      " [   0.       0.       1.       0.   ]\n",
      " [   0.       0.       0.       1.   ]]\n"
     ]
    }
   ],
   "source": [
    "#T2_1 = np.dot(Tb2, Ttetha2)\n",
    "#T2_2 = np.dot(T2_1, Ta2)\n",
    "\n",
    "T2_a_1 = np.dot(np.dot(np.dot(Tb2, Ttetha2), Ta2), Talpha2)\n",
    "\n",
    "print(\"\\nMatriz de Transformacion T2 -> 1 (TL2): (a2 = {} mm, b2 = {}, tetha2 = {}°, alpha2 = {}°)\\n\".format(a2, b2, tetha2R, alpha2R), np.matrix(T2_a_1).round(3) )"
   ]
  },
  {
   "attachments": {},
   "cell_type": "markdown",
   "metadata": {},
   "source": [
    "T3->2"
   ]
  },
  {
   "cell_type": "code",
   "execution_count": 31,
   "metadata": {},
   "outputs": [
    {
     "name": "stdout",
     "output_type": "stream",
     "text": [
      "\n",
      "Matriz de Transformacion T3 -> 2 (TL3): (a3 = 50 mm, b3 = 0, tetha3 = -90°, alpha3 = 0°)\n",
      "\n",
      " [[  0.   1.   0.   0.]\n",
      " [ -1.   0.   0. -50.]\n",
      " [  0.   0.   1.   0.]\n",
      " [  0.   0.   0.   1.]]\n"
     ]
    }
   ],
   "source": [
    "#T3_1 = np.dot(Tb3, Ttetha3)\n",
    "#T3_2 = np.dot(T3_1, Ta3)\n",
    "\n",
    "T3_a_2 = np.dot(np.dot(np.dot(Tb3, Ttetha3), Ta3), Talpha3)\n",
    "\n",
    "print(\"\\nMatriz de Transformacion T3 -> 2 (TL3): (a3 = {} mm, b3 = {}, tetha3 = {}°, alpha3 = {}°)\\n\\n\".format(a3, b3, tetha3R, alpha3R), np.matrix(T3_a_2).round(3)  )"
   ]
  },
  {
   "attachments": {},
   "cell_type": "markdown",
   "metadata": {},
   "source": [
    "Matriz de Transformacion Final Resultante"
   ]
  },
  {
   "cell_type": "code",
   "execution_count": 32,
   "metadata": {},
   "outputs": [
    {
     "name": "stdout",
     "output_type": "stream",
     "text": [
      "\n",
      "Matriz de Transformacion TF (0 -> 3):\n",
      "\n",
      " [[  0.      1.      0.    291.421]\n",
      " [ -1.      0.      0.     91.421]\n",
      " [  0.      0.      1.      0.   ]\n",
      " [  0.      0.      0.      1.   ]]\n"
     ]
    }
   ],
   "source": [
    "T10_21 = np.dot(T1_a_0, T2_a_1)\n",
    "Tfinal = np.dot(np.dot(T1_a_0, T2_a_1), T3_a_2) \n",
    "\n",
    "print(\"\\nMatriz de Transformacion TF (0 -> 3):\\n\\n\", np.matrix(Tfinal).round(3) )"
   ]
  },
  {
   "attachments": {},
   "cell_type": "markdown",
   "metadata": {},
   "source": [
    "Hallamos las matrices de Transformacion para obtener los puntos P3, P2 y P1"
   ]
  },
  {
   "cell_type": "code",
   "execution_count": 33,
   "metadata": {},
   "outputs": [
    {
     "name": "stdout",
     "output_type": "stream",
     "text": [
      "\n",
      "Matriz de Transformacion Final (P3):\n",
      " [[  0.      1.      0.    291.421]\n",
      " [ -1.      0.      0.     91.421]\n",
      " [  0.      0.      1.      0.   ]\n",
      " [  0.      0.      0.      1.   ]]\n",
      "\n",
      "Matriz de Transformacion Parcial (P2):\n",
      " [[  1.      0.      0.    291.421]\n",
      " [  0.      1.      0.    141.421]\n",
      " [  0.      0.      1.      0.   ]\n",
      " [  0.      0.      0.      1.   ]]\n",
      "\n",
      "Matriz de Transformacion Parcial (P2):\n",
      " [[  1.      0.      0.    291.421]\n",
      " [  0.      1.      0.    141.421]\n",
      " [  0.      0.      1.      0.   ]\n",
      " [  0.      0.      0.      1.   ]]\n",
      "\n",
      "Matriz de Transformacion Parcial 1 (P1):\n",
      " [[  0.707  -0.707   0.    141.421]\n",
      " [  0.707   0.707   0.    141.421]\n",
      " [  0.      0.      1.      0.   ]\n",
      " [  0.      0.      0.      1.   ]]\n"
     ]
    }
   ],
   "source": [
    "print(\"\\nMatriz de Transformacion Final (P3):\\n\", Tfinal.round(3))\n",
    "\n",
    "P2 = np.dot(T1_a_0, T2_a_1)\n",
    "print(\"\\nMatriz de Transformacion Parcial (P2):\\n\", P2.round(3))\n",
    "\n",
    "P2_1 = np.dot(Tfinal,  np.linalg.inv(T3_a_2) )\n",
    "print(\"\\nMatriz de Transformacion Parcial (P2):\\n\", P2_1.round(3))\n",
    "\n",
    "P1 = np.dot( P2, np.linalg.inv(T2_a_1) )\n",
    "print(\"\\nMatriz de Transformacion Parcial 1 (P1):\\n\", P1.round(3))\n"
   ]
  },
  {
   "cell_type": "code",
   "execution_count": 34,
   "metadata": {},
   "outputs": [
    {
     "name": "stdout",
     "output_type": "stream",
     "text": [
      "======== P3 ========\n",
      "xJ3: 291.421\n",
      "yJ3: 91.421\n",
      "======== P2 ========\n",
      "\n",
      "xJ2: 291.421\n",
      "yJ2: 141.421\n",
      "======== P1 ========\n",
      "\n",
      "xJ1: 141.421\n",
      "yJ1: 141.421\n"
     ]
    }
   ],
   "source": [
    "print(\"======== P3 ========\")\n",
    "xJ3 = Tfinal[0,3]\n",
    "yJ3 = Tfinal[1,3]\n",
    "print(\"xJ3:\", xJ3.round(3))\n",
    "print(\"yJ3:\", yJ3.round(3))\n",
    "\n",
    "print(\"======== P2 ========\")\n",
    "xJ2 = P2[0,3]\n",
    "yJ2 = P2[1,3]\n",
    "print(\"\\nxJ2:\", xJ2.round(3))\n",
    "print(\"yJ2:\", yJ2.round(3))\n",
    "\n",
    "print(\"======== P1 ========\")\n",
    "xJ1 = P1[0,3]\n",
    "yJ1 = P1[1,3]\n",
    "print(\"\\nxJ1:\", xJ1.round(3))\n",
    "print(\"yJ1:\", xJ1.round(3))"
   ]
  },
  {
   "attachments": {},
   "cell_type": "markdown",
   "metadata": {},
   "source": [
    "Graficamos los puntos para ver el resultado del modelo"
   ]
  },
  {
   "cell_type": "code",
   "execution_count": 35,
   "metadata": {},
   "outputs": [
    {
     "data": {
      "image/png": "[encoded data removed]",
      "text/plain": [
       "<Figure size 432x288 with 1 Axes>"
      ]
     },
     "metadata": {
      "needs_background": "light"
     },
     "output_type": "display_data"
    }
   ],
   "source": [
    "fix, axes = plt.subplots()\n",
    "plt.plot(0,0,'o')\n",
    "plt.plot(xJ1, yJ1, 'o')\n",
    "plt.plot(xJ2, yJ2, 'o')\n",
    "plt.plot(xJ3, yJ3, 'o')\n",
    "plt.plot([0, xJ1, xJ2, xJ3], [0, yJ1, yJ2, yJ3])\n",
    "plt.title(\"Matrices DH y Transformacion Homegenea Brazo\")\n",
    "plt.xlabel(\"Posicion X (mm)\")\n",
    "plt.ylabel(\"Posicion Y (mm)\")\n",
    "plt.show()"
   ]
  },
  {
   "cell_type": "code",
   "execution_count": 36,
   "metadata": {},
   "outputs": [
    {
     "data": {
      "image/png": "[encoded data removed]",
      "text/plain": [
       "<Figure size 432x288 with 1 Axes>"
      ]
     },
     "metadata": {
      "needs_background": "light"
     },
     "output_type": "display_data"
    }
   ],
   "source": [
    "\n",
    "figura = plt.figure()\n",
    "grafica = figura.add_subplot(111, projection='3d')\n",
    "grafica.scatter(0, 0, 0, c='blue', marker='o', label = 'Origen')\n",
    "grafica.scatter(xJ1, yJ1, 0, c='orange', marker='o', label = 'P1')\n",
    "grafica.scatter(xJ2, yJ2, 0, c='green', marker='o', label = 'P2')\n",
    "grafica.scatter(xJ3, yJ3, 0, c='red', marker='o', label = 'P3')\n",
    "\n",
    "\n",
    "X = np.array([xJ1, xJ2, xJ3])\n",
    "Y = np.array([yJ1, yJ2, yJ3])\n",
    "Z = np.array([0, 0, 0])\n",
    "\n",
    "grafica.plot(X,Y,Z)\n",
    "grafica.set_xlabel('Eje X')\n",
    "grafica.set_ylabel('Eje Y')\n",
    "grafica.set_zlabel('Eje Z')\n",
    "grafica.legend()\n",
    "grafica.view_init(35, 50)\n",
    "plt.show()"
   ]
  }
 ],
 "metadata": {
  "kernelspec": {
   "display_name": "Python 3",
   "language": "python",
   "name": "python3"
  },
  "language_info": {
   "codemirror_mode": {
    "name": "ipython",
    "version": 3
   },
   "file_extension": ".py",
   "mimetype": "text/x-python",
   "name": "python",
   "nbconvert_exporter": "python",
   "pygments_lexer": "ipython3",
   "version": "3.10.4"
  },
  "orig_nbformat": 4,
  "vscode": {
   "interpreter": {
    "hash": "833ae54a1c4d6b501075c8cad16e0b637721bd5d7dccdd8aa0275ca48ae6a6ef"
   }
  }
 },
 "nbformat": 4,
 "nbformat_minor": 2
}
