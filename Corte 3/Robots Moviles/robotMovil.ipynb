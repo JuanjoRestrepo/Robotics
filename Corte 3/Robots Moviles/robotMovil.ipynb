{
 "cells": [
  {
   "cell_type": "code",
   "execution_count": 1,
   "metadata": {},
   "outputs": [
    {
     "name": "stdout",
     "output_type": "stream",
     "text": [
      "pygame 2.3.0 (SDL 2.24.2, Python 3.11.2)\n",
      "Hello from the pygame community. https://www.pygame.org/contribute.html\n"
     ]
    }
   ],
   "source": [
    "import numpy as np\n",
    "import math\n",
    "import pygame\n",
    "import sympy as sym\n",
    "import matplotlib.pyplot as plt"
   ]
  },
  {
   "cell_type": "code",
   "execution_count": 2,
   "metadata": {},
   "outputs": [],
   "source": [
    "class Envir:\n",
    "    def __init__(self, dimentions):\n",
    "        # colors\n",
    "        self.black = (0, 0, 0)\n",
    "        self.white = (255, 255, 255)\n",
    "        self.green = (0, 255, 0)\n",
    "        self.blue = (0, 0, 255)\n",
    "        self.red = (255, 0, 0)\n",
    "        self.yellow = (255, 255, 0)\n",
    "\n",
    "        # Dimensiones mapa\n",
    "        self.height = dimentions[0]\n",
    "        self.width = dimentions[1]\n",
    "        \n",
    "        # Configuracion ventana/Window\n",
    "        pygame.display.set_caption(\"Robot Diferencial\")\n",
    "        self.map = pygame.display.set_mode( (self.width, \n",
    "                                             self.height))\n",
    "        \n"
   ]
  },
  {
   "cell_type": "code",
   "execution_count": 4,
   "metadata": {},
   "outputs": [
    {
     "ename": "",
     "evalue": "",
     "output_type": "error",
     "traceback": [
      "\u001b[1;31mThe Kernel crashed while executing code in the the current cell or a previous cell. Please review the code in the cell(s) to identify a possible cause of the failure. Click <a href='https://aka.ms/vscodeJupyterKernelCrash'>here</a> for more info. View Jupyter <a href='command:jupyter.viewOutput'>log</a> for further details."
     ]
    }
   ],
   "source": [
    "# Inicizalizacion\n",
    "pygame.init()\n",
    "\n",
    "# Coordenadas Iniciales\n",
    "start = (200, 200)\n",
    "\n",
    "\n",
    "# Dimensiones\n",
    "dims = (600, 1200)\n",
    "\n",
    "# Running or Nor\n",
    "running = True\n",
    "\n",
    "# Entorno/Environment\n",
    "environment = Envir(dims)\n",
    "\n",
    "while running:\n",
    "    for event in pygame.event.get():\n",
    "        if event.type == pygame.QUIT:\n",
    "            running = False\n",
    "    \n",
    "    pygame.display.update()\n",
    "    environment.map.fill(environment.black)"
   ]
  }
 ],
 "metadata": {
  "kernelspec": {
   "display_name": "Python 3",
   "language": "python",
   "name": "python3"
  },
  "language_info": {
   "codemirror_mode": {
    "name": "ipython",
    "version": 3
   },
   "file_extension": ".py",
   "mimetype": "text/x-python",
   "name": "python",
   "nbconvert_exporter": "python",
   "pygments_lexer": "ipython3",
   "version": "3.11.2"
  },
  "orig_nbformat": 4
 },
 "nbformat": 4,
 "nbformat_minor": 2
}
