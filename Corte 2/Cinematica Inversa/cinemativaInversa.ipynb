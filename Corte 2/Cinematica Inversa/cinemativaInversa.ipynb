{
 "cells": [
  {
   "cell_type": "code",
   "execution_count": 88,
   "metadata": {},
   "outputs": [],
   "source": [
    "import numpy as np\n",
    "import matplotlib.pyplot as plt\n",
    "from mpl_toolkits.mplot3d import Axes3D"
   ]
  },
  {
   "attachments": {},
   "cell_type": "markdown",
   "metadata": {},
   "source": [
    "# Cinemática Inversa (I.K.)"
   ]
  },
  {
   "attachments": {},
   "cell_type": "markdown",
   "metadata": {},
   "source": [
    "**Parámetros**"
   ]
  },
  {
   "cell_type": "code",
   "execution_count": 89,
   "metadata": {},
   "outputs": [],
   "source": [
    "#Xp = int(input(\"Introduza el valor de Xp: \"))\n",
    "#Yp = int(input(\"Introduza el valor de Yp: \"))\n",
    "#Zp = int(input(\"Introduza el valor de Zp: \"))\n",
    "Xp = 297.972\n",
    "Yp = 297.972\n",
    "Zp = 328.341\n",
    "\n",
    "# Largo del Eslabon 2 y Eslabon 3\n",
    "a2 = 250\n",
    "a3 = 232\n",
    "b1 = 300"
   ]
  },
  {
   "attachments": {},
   "cell_type": "markdown",
   "metadata": {},
   "source": [
    "## **Hallamos Theta 1**\n",
    "\n",
    "$$\n",
    "\\theta1 = \\arctan(\\frac{y_p}{x_p})\n",
    "$$"
   ]
  },
  {
   "cell_type": "code",
   "execution_count": 90,
   "metadata": {},
   "outputs": [
    {
     "name": "stdout",
     "output_type": "stream",
     "text": [
      "Theta 1:  0.7854 rads\n"
     ]
    }
   ],
   "source": [
    "theta1 = np.arctan(Yp/Xp)\n",
    "print(\"Theta 1: \", theta1.round(5), \"rads\")"
   ]
  },
  {
   "attachments": {},
   "cell_type": "markdown",
   "metadata": {},
   "source": [
    "## **Hallamos Theta 3**\n",
    "\n",
    "$$\n",
    "P_1x = \\sqrt(x_p^2 + y_p^2) \\\\\n",
    "P_1z = z_p \\\\\n",
    "P = \\sqrt(P_1x^2 + P_1z^2) \\\\\n",
    "$$"
   ]
  },
  {
   "cell_type": "code",
   "execution_count": 91,
   "metadata": {},
   "outputs": [
    {
     "name": "stdout",
     "output_type": "stream",
     "text": [
      "P1_X:  421.396\n",
      "P1_Z: 28.341\n",
      "Punto P:  422.348\n"
     ]
    }
   ],
   "source": [
    "P1_x = np.sqrt( (Xp**2) + (Yp**2) )\n",
    "print(\"P1_X: \", P1_x.round(3))\n",
    "P1_z = Zp - b1\n",
    "print(\"P1_Z: %.3f\" % P1_z)\n",
    "P = np.sqrt( (P1_x**2) + (P1_z**2) )\n",
    "print(\"Punto P: \", P.round(3))\n"
   ]
  },
  {
   "attachments": {},
   "cell_type": "markdown",
   "metadata": {},
   "source": [
    "Despejando Theta 3 de nuestra ecuacion\n",
    "\n",
    "Por ley de coseno: $ c^2 = a^2 + b^2 - 2 a b\\cos( \\alpha ) $\n",
    "\n",
    "$$\n",
    "P = a_2^2 + a_3^2 - 2a_2 a_3\\cos( \\alpha ) \\\\\n",
    "\\alpha = \\pi + \\theta3 \\\\\n",
    "$$\n",
    "\n",
    "Nos queda:\n",
    "\n",
    "$$\n",
    "\n",
    "P_1x^2 + P_1z^2 = a_2^2 + a_3^2 - 2a_2 a_3\\cos( \\pi + \\theta3  ) \\\\\n",
    "\n",
    "\\cos(\\pi + \\theta3 ) = \\frac{ P_1x^2 + P_1z^2 - a_2^2 - a_3^2  }{ - 2a_2 a_3 }\n",
    "\n",
    "$$\n",
    "\n",
    "Sabemos que:\n",
    "\n",
    "$$\n",
    "\n",
    "\\cos(\\pi + \\theta3 ) = \\cos(\\pi )\\cos(\\theta3) + \\sin(\\pi)\\sin(\\theta3)  = -\\cos(\\theta3 )\n",
    "\n",
    "$$\n",
    "\n",
    "Despejando theta 3:\n",
    "\n",
    "Forma 1: \n",
    "$$\n",
    "\\theta3 = \\arccos( \\frac{ P_1x^2 + P_1z^2 - a_2^2 - a_3^2  }{ 2a_2 a_3 } )\n",
    "$$\n",
    "\n",
    "Forma 2: \n",
    "$$\n",
    "\\sin(\\theta3) + \\cos(\\theta3) = 1 \\implies \\sin(\\theta3) =  \\pm \\sqrt(1 - \\cos(\\theta3)^2) \\\\\n",
    "$$\n",
    "\n",
    "Cambiando de variable:  $\\cos(\\theta3) = D $ \n",
    "\n",
    "$$\n",
    "\\sin(\\theta3) =  \\pm \\sqrt(1 - D^2) \\\\\n",
    "\\tan(\\theta3) = \\frac{\\sin(\\theta3)}{\\cos(\\theta3)} \\implies \\frac{ \\pm \\sqrt(1 - D^2)}{D} \\\\\n",
    "\\theta3 = \\arctan(\\frac{ \\pm \\sqrt(1 - D^2)}{D})\n",
    "\n",
    "$$"
   ]
  },
  {
   "cell_type": "code",
   "execution_count": 92,
   "metadata": {},
   "outputs": [
    {
     "name": "stdout",
     "output_type": "stream",
     "text": [
      "Theta 3_1:  1.0064 rads  ->  57.66 °\n",
      "Theta 3_2:  -1.0064 rads  ->  -57.66 °\n"
     ]
    }
   ],
   "source": [
    "D = ( (P**2) - a2**2 - a3**2)/(2*a2*a3)\n",
    "\n",
    "theta3_1 = np.arctan( np.sqrt(1-D**2)/D )\n",
    "theta3_2 = np.arctan( -np.sqrt(1-D**2)/D )\n",
    "#theta3_3 = np.arccos((P1_x**2 + P1_z**2 - a2**2 - a3**2)/(2*a2*a3) )\n",
    "\n",
    "print(\"Theta 3_1: \", theta3_1.round(4), \"rads  -> \", (theta3_1*180/np.pi).round(3), \"°\" )\n",
    "print(\"Theta 3_2: \", theta3_2.round(4), \"rads  -> \", (theta3_2*180/np.pi).round(3), \"°\" )\n",
    "#print(\"Theta 3_3: \", theta3_3.round(4), \"rads  -> \", (theta3_3*180/np.pi).round(3), \"°\" )\n",
    "\n"
   ]
  },
  {
   "attachments": {},
   "cell_type": "markdown",
   "metadata": {},
   "source": [
    "## **Hallamos Theta 2**\n",
    "\n",
    "Por ley de coseno: $ c^2 = a^2 + b^2 - 2 a b\\cos( \\alpha ) $\n",
    "\n",
    "$$\n",
    "\n",
    "c = \\sqrt(P_1x^2 + P_1z^2) \\\\\n",
    "a_3^2 = a_2^2 + P_1x^2 + P_1z^2 - 2a_2\\sqrt(P_1x^2 + P_1z^2)\\cos(\\alpha)\\\\\n",
    "\\cos(\\alpha) = \\frac{a_3^2 - a_2^2 - (P_1x^2 + P_1z^2)}{ - 2a_2\\sqrt(P_1x^2 + P_1z^2) } \\\\\n",
    "\n",
    "$$\n",
    "\n",
    "Sabemos que $ \\alpha = \\theta2 - \\psi \\implies \\theta2 = \\alpha + \\psi $\n",
    "\n",
    "Hallando el angulo $\\psi$\n",
    "\n",
    "$$\n",
    "\n",
    "\\tan(\\psi) = \\frac{P_1z }{P_1x} \\implies \\psi = \\arctan( \\frac{P_1z }{P_1x} )\n",
    "\n",
    "$$\n",
    "\n",
    "Reemplazando $\\psi$ en la ecuacion nos queda:\n",
    "\n",
    "$$\n",
    "\n",
    "\\cos(\\theta2 - \\arctan( \\frac{P_1z }{P_1x} ) ) = \\frac{a_3^2 - a_2^2 - (P_1x^2 + P_1z^2)}{ - 2a_2\\sqrt(P_1x^2 + P_1z^2) } \\\\\n",
    "\\cos(\\theta2 - \\arctan( \\frac{P_1z }{P_1x} ) ) = \\frac{P_1x^2 + P_1z^2 + a_2^2 - a_3^2}{ 2a_2\\sqrt(P_1x^2 + P_1z^2) }\n",
    "$$\n",
    "\n",
    "Despejando $\\theta2$:\n",
    "\n",
    "$$\n",
    "\n",
    "\\theta_{2,1} = \\arccos( \\frac{P_1x^2 + P_1z^2 + a_2^2 - a_3^2}{ 2a_2\\sqrt(P_1x^2 + P_1z^2) } ) + \\arctan( \\frac{P_1z}{P_1x} ) \\\\\n",
    "\n",
    "\\theta_{2,2} = -\\arccos( \\frac{P_1x^2 + P_1z^2 + a_2^2 - a_3^2}{ 2a_2\\sqrt(P_1x^2 + P_1z^2) } ) + \\arctan( \\frac{P_1z}{P_1x} )\n",
    "\n",
    "$$"
   ]
  },
  {
   "cell_type": "code",
   "execution_count": 93,
   "metadata": {},
   "outputs": [
    {
     "name": "stdout",
     "output_type": "stream",
     "text": [
      "Theta 2_1:  0.55\n",
      "alpha 0.483\n",
      "Psi:  0.067 rads\n",
      "Theta 2_2:  -0.415\n"
     ]
    }
   ],
   "source": [
    "theta2_1 = np.arccos( (P1_x**2 + P1_z**2 + a2**2 - a3**2)/(2*a2*np.sqrt( (P1_x**2) + (P1_z**2) ) ) ) + np.arctan(P1_z/P1_x)\n",
    "theta2_2 = -np.arccos( (P1_x**2 + P1_z**2 + a2**2 - a3**2)/(2*a2*np.sqrt( (P1_x**2) + (P1_z**2) ) ) ) + np.arctan(P1_z/P1_x)\n",
    "\n",
    "print(\"Theta 2_1: \", theta2_1.round(3) )\n",
    "psi = np.arctan(P1_z/P1_x)\n",
    "\n",
    "alfa = np.arccos( (P1_x**2 + P1_z**2 + a2**2 - a3**2)/(2*a2*np.sqrt( (P1_x**2) + (P1_z**2) ) ) )\n",
    "print(\"alpha\", alfa.round(3) )\n",
    "\n",
    "print(\"Psi: \", psi.round(3), \"rads\")\n",
    "print(\"Theta 2_2: \", theta2_2.round(3) )"
   ]
  },
  {
   "attachments": {},
   "cell_type": "markdown",
   "metadata": {},
   "source": [
    "Conversion Radianes a Grados"
   ]
  },
  {
   "cell_type": "code",
   "execution_count": 94,
   "metadata": {},
   "outputs": [
    {
     "name": "stdout",
     "output_type": "stream",
     "text": [
      "tetha 1:  45.0 °\n",
      "tetha 2:  31.5 °\n",
      "tetha 3:  -57.66 °\n",
      "psi:  3.848 °\n",
      "alpha:  27.652 °\n"
     ]
    }
   ],
   "source": [
    "tetha1Deg = (theta1*180)/np.pi\n",
    "\n",
    "tetha2Deg = (theta2_1*180)/np.pi\n",
    "\n",
    "tetha3Deg = (theta3_2*180)/np.pi\n",
    "\n",
    "psiDeg = (psi*180)/np.pi\n",
    "\n",
    "alphaDeg = (alfa*180)/np.pi\n",
    "\n",
    "\n",
    "print(\"tetha 1: \", tetha1Deg.round(3), \"°\")\n",
    "print(\"tetha 2: \", tetha2Deg.round(3), \"°\")\n",
    "print(\"tetha 3: \", tetha3Deg.round(3), \"°\")\n",
    "print(\"psi: \", psiDeg.round(3), \"°\")\n",
    "print(\"alpha: \", alphaDeg.round(3), \"°\")\n"
   ]
  },
  {
   "attachments": {},
   "cell_type": "markdown",
   "metadata": {},
   "source": [
    "Una vez calculamos los ángulos theta 1, theta 2 y theta 3; procedemos al método de Cinemática Directa"
   ]
  },
  {
   "attachments": {},
   "cell_type": "markdown",
   "metadata": {},
   "source": [
    "# Cinemática Directa (D.K.)"
   ]
  },
  {
   "cell_type": "code",
   "execution_count": 95,
   "metadata": {},
   "outputs": [],
   "source": [
    "a1 = 0 #150 #50 -> ORIGINAL\n",
    "a2 = 250\n",
    "a3 = 232\n",
    "# restar PZ = 328.341 - b1\n",
    "b1 = 300\n",
    "b2 = 0\n",
    "b3 = 0\n",
    "\n",
    "alpha1 = 90 #0\n",
    "alpha2 = 0\n",
    "alpha3 = 0"
   ]
  },
  {
   "attachments": {},
   "cell_type": "markdown",
   "metadata": {},
   "source": [
    "Conversion Grados a Radianes"
   ]
  },
  {
   "cell_type": "code",
   "execution_count": 96,
   "metadata": {},
   "outputs": [
    {
     "name": "stdout",
     "output_type": "stream",
     "text": [
      "tetha 1: 0.785 rads\n",
      "alpha 1: 1.5707963267948966 rads\n",
      "\n",
      "tetha 2: 0.55 rads\n",
      "alpha 2: 0.0 rads\n",
      "\n",
      "tetha 3: -1.0064 rads\n",
      "alpha 3: 0.0 rads\n"
     ]
    }
   ],
   "source": [
    "tetha1R = (tetha1Deg*np.pi)/180\n",
    "alpha1R = (alpha1*np.pi)/180\n",
    "\n",
    "tetha2R = (tetha2Deg*np.pi)/180\n",
    "alpha2R = (alpha2*np.pi)/180\n",
    "\n",
    "tetha3R = (tetha3Deg*np.pi)/180\n",
    "alpha3R = (alpha3*np.pi)/180\n",
    "\n",
    "print(\"tetha 1: {} rads\\nalpha 1: {} rads\".format(tetha1R.round(3), alpha1R) )\n",
    "print(\"\\ntetha 2: {} rads\\nalpha 2: {} rads\".format(tetha2R.round(3), alpha2R) )\n",
    "print(\"\\ntetha 3: {} rads\\nalpha 3: {} rads\".format(tetha3R.round(4), alpha3R) )\n"
   ]
  },
  {
   "attachments": {},
   "cell_type": "markdown",
   "metadata": {},
   "source": [
    "Matrices de Transformacion Homegenea"
   ]
  },
  {
   "cell_type": "code",
   "execution_count": 97,
   "metadata": {},
   "outputs": [],
   "source": [
    "# Parametros b ( desplazamiento en el eje Z )\n",
    "\n",
    "Tb1 = [[1, 0, 0, 0],\n",
    "      [0, 1, 0, 0],\n",
    "      [0, 0, 1, b1],\n",
    "      [0, 0, 0, 1]]\n",
    "\n",
    "Tb2 = [[1, 0, 0, 0],\n",
    "      [0, 1, 0, 0],\n",
    "      [0, 0, 1, b2],\n",
    "      [0, 0, 0, 1]]\n",
    "\n",
    "Tb3 = [[1, 0, 0, 0],\n",
    "      [0, 1, 0, 0],\n",
    "      [0, 0, 1, b3],\n",
    "      [0, 0, 0, 1]]"
   ]
  },
  {
   "cell_type": "code",
   "execution_count": 98,
   "metadata": {},
   "outputs": [
    {
     "name": "stdout",
     "output_type": "stream",
     "text": [
      "Ttetha1:\n",
      " [[ 0.707 -0.707  0.     0.   ]\n",
      " [ 0.707  0.707  0.     0.   ]\n",
      " [ 0.     0.     1.     0.   ]\n",
      " [ 0.     0.     0.     1.   ]]\n",
      "\n",
      "Ttetha2:\n",
      " [[ 0.853 -0.522  0.     0.   ]\n",
      " [ 0.522  0.853  0.     0.   ]\n",
      " [ 0.     0.     1.     0.   ]\n",
      " [ 0.     0.     0.     1.   ]]\n",
      "\n",
      "Ttetha3:\n",
      " [[ 0.535  0.845  0.     0.   ]\n",
      " [-0.845  0.535  0.     0.   ]\n",
      " [ 0.     0.     1.     0.   ]\n",
      " [ 0.     0.     0.     1.   ]]\n"
     ]
    }
   ],
   "source": [
    "# Parametros Tetha ( Rotacion en el eje Z )\n",
    "\n",
    "Ttetha1 = [[np.cos(tetha1R), -np.sin(tetha1R), 0, 0],\n",
    "          [np.sin(tetha1R), np.cos(tetha1R), 0, 0],\n",
    "          [0, 0, 1, 0],\n",
    "          [0, 0, 0, 1]]\n",
    "\n",
    "Ttetha2 = [[np.cos(tetha2R), -np.sin(tetha2R), 0, 0],\n",
    "          [np.sin(tetha2R), np.cos(tetha2R), 0, 0],\n",
    "          [0, 0, 1, 0],\n",
    "          [0, 0, 0, 1]]\n",
    "Ttetha3 = [[np.cos(tetha3R), -np.sin(tetha3R), 0, 0],\n",
    "          [np.sin(tetha3R), np.cos(tetha3R), 0, 0],\n",
    "          [0, 0, 1, 0],\n",
    "          [0, 0, 0, 1]]\n",
    "\n",
    "print(\"Ttetha1:\\n\", np.matrix(Ttetha1).round(3) )\n",
    "print(\"\\nTtetha2:\\n\", np.matrix(Ttetha2).round(3) )\n",
    "print(\"\\nTtetha3:\\n\", np.matrix(Ttetha3).round(3) )"
   ]
  },
  {
   "cell_type": "code",
   "execution_count": 99,
   "metadata": {},
   "outputs": [],
   "source": [
    "# Parametros a ( desplazamiento del eslabon en el eje X  )\n",
    "\n",
    "Ta1 = [[1, 0, 0, a1],\n",
    "      [0, 1, 0, 0],\n",
    "      [0, 0, 1, 0],\n",
    "      [0, 0, 0, 1]]\n",
    "\n",
    "Ta2 = [[1, 0, 0, a2],\n",
    "      [0, 1, 0, 0],\n",
    "      [0, 0, 1, 0],\n",
    "      [0, 0, 0, 1]]\n",
    "\n",
    "Ta3 = [[1, 0, 0, a3],\n",
    "      [0, 1, 0, 0],\n",
    "      [0, 0, 1, 0],\n",
    "      [0, 0, 0, 1]]"
   ]
  },
  {
   "cell_type": "code",
   "execution_count": 100,
   "metadata": {},
   "outputs": [
    {
     "name": "stdout",
     "output_type": "stream",
     "text": [
      "Talpha1:\n",
      " [[ 1.000000e+00  0.000000e+00  0.000000e+00  0.000000e+00]\n",
      " [ 0.000000e+00  6.123234e-17 -1.000000e+00  0.000000e+00]\n",
      " [ 0.000000e+00  1.000000e+00  6.123234e-17  0.000000e+00]\n",
      " [ 0.000000e+00  0.000000e+00  0.000000e+00  1.000000e+00]]\n",
      "\n",
      "Talpha2:\n",
      " [[ 1.  0.  0.  0.]\n",
      " [ 0.  1. -0.  0.]\n",
      " [ 0.  0.  1.  0.]\n",
      " [ 0.  0.  0.  1.]]\n",
      "\n",
      "Talpha3:\n",
      " [[ 1.  0.  0.  0.]\n",
      " [ 0.  1. -0.  0.]\n",
      " [ 0.  0.  1.  0.]\n",
      " [ 0.  0.  0.  1.]]\n"
     ]
    }
   ],
   "source": [
    "Talpha1 = [[1, 0, 0, 0],\n",
    "         [0, np.cos(alpha1R), -np.sin(alpha1R), 0],\n",
    "          [0, np.sin(alpha1R), np.cos(alpha1R), 0],\n",
    "          [0, 0, 0, 1]]\n",
    "\n",
    "Talpha2 = [[1, 0, 0, 0],\n",
    "         [0, np.cos(alpha2R), -np.sin(alpha2R), 0],\n",
    "          [0, np.sin(alpha2R), np.cos(alpha2R), 0],\n",
    "          [0, 0, 0, 1]]\n",
    "\n",
    "Talpha3 = [[1, 0, 0, 0],\n",
    "         [0, np.cos(alpha3R), -np.sin(alpha3R), 0],\n",
    "          [0, np.sin(alpha3R), np.cos(alpha3R), 0],\n",
    "          [0, 0, 0, 1]]\n",
    "\n",
    "print(\"Talpha1:\\n\", np.matrix(Talpha1) )\n",
    "print(\"\\nTalpha2:\\n\", np.matrix(Talpha2) )\n",
    "print(\"\\nTalpha3:\\n\", np.matrix(Talpha3).round(3) )"
   ]
  },
  {
   "cell_type": "code",
   "execution_count": 101,
   "metadata": {},
   "outputs": [
    {
     "name": "stdout",
     "output_type": "stream",
     "text": [
      "\n",
      "Matriz de Transformacion T1 -> 0 (TL1): (a1 = 0 mm, b1 = 300, tetha1 = 45.0°, alpha1 = 1.5707963267948966°)\n",
      "\n",
      " [[  0.707  -0.      0.707   0.   ]\n",
      " [  0.707   0.     -0.707   0.   ]\n",
      " [  0.      1.      0.    300.   ]\n",
      " [  0.      0.      0.      1.   ]]\n"
     ]
    }
   ],
   "source": [
    "#T1_1 = np.dot(Tb1, Ttetha1)\n",
    "#T1_2 = np.dot(T1_1, Ta1)\n",
    "#T1_a_0 = np.dot(T1_2, Talpha1)\n",
    "\n",
    "T1_a_0 = np.dot(np.dot(np.dot(Tb1, Ttetha1), Ta1), Talpha1)\n",
    "\n",
    "print(\"\\nMatriz de Transformacion T1 -> 0 (TL1): (a1 = {} mm, b1 = {}, tetha1 = {}°, alpha1 = {}°)\\n\\n\" .format(a1, b1, tetha1Deg.round(3), alpha1R), np.matrix(T1_a_0).round(3) )"
   ]
  },
  {
   "cell_type": "code",
   "execution_count": 102,
   "metadata": {},
   "outputs": [
    {
     "name": "stdout",
     "output_type": "stream",
     "text": [
      "\n",
      "Matriz de Transformacion T2 -> 1 (TL2): (a2 = 250 mm, b2 = 0, tetha2 = 31.5°, alpha2 = 0.0°)\n",
      "\n",
      " [[  0.853  -0.522   0.    213.16 ]\n",
      " [  0.522   0.853   0.    130.624]\n",
      " [  0.      0.      1.      0.   ]\n",
      " [  0.      0.      0.      1.   ]]\n"
     ]
    }
   ],
   "source": [
    "#T2_1 = np.dot(Tb2, Ttetha2)\n",
    "#T2_2 = np.dot(T2_1, Ta2)\n",
    "\n",
    "T2_a_1 = np.dot(np.dot(np.dot(Tb2, Ttetha2), Ta2), Talpha2)\n",
    "\n",
    "print(\"\\nMatriz de Transformacion T2 -> 1 (TL2): (a2 = {} mm, b2 = {}, tetha2 = {}°, alpha2 = {}°)\\n\\n\".format(a2, b2, tetha2Deg.round(3), alpha2R), np.matrix(T2_a_1).round(3) )"
   ]
  },
  {
   "cell_type": "code",
   "execution_count": 103,
   "metadata": {},
   "outputs": [
    {
     "name": "stdout",
     "output_type": "stream",
     "text": [
      "\n",
      "Matriz de Transformacion T3 -> 2 (TL3): (a3 = 232 mm, b3 = 0, tetha3 = -57.66°, alpha3 = 0.0°)\n",
      "\n",
      " [[   0.535    0.845    0.     124.108]\n",
      " [  -0.845    0.535    0.    -196.013]\n",
      " [   0.       0.       1.       0.   ]\n",
      " [   0.       0.       0.       1.   ]]\n"
     ]
    }
   ],
   "source": [
    "#T3_1 = np.dot(Tb3, Ttetha3)\n",
    "#T3_2 = np.dot(T3_1, Ta3)\n",
    "\n",
    "T3_a_2 = np.dot(np.dot(np.dot(Tb3, Ttetha3), Ta3), Talpha3)\n",
    "\n",
    "print(\"\\nMatriz de Transformacion T3 -> 2 (TL3): (a3 = {} mm, b3 = {}, tetha3 = {}°, alpha3 = {}°)\\n\\n\".format(a3, b3, tetha3Deg.round(3), alpha3R), np.matrix(T3_a_2).round(3)  )"
   ]
  },
  {
   "cell_type": "code",
   "execution_count": 104,
   "metadata": {},
   "outputs": [
    {
     "name": "stdout",
     "output_type": "stream",
     "text": [
      "\n",
      "Matriz de Transformacion TF (0 -> 3):\n",
      "\n",
      " [[ 6.35000e-01  3.12000e-01  7.07000e-01  2.97972e+02]\n",
      " [ 6.35000e-01  3.12000e-01 -7.07000e-01  2.97972e+02]\n",
      " [-4.41000e-01  8.98000e-01  0.00000e+00  3.28341e+02]\n",
      " [ 0.00000e+00  0.00000e+00  0.00000e+00  1.00000e+00]]\n"
     ]
    }
   ],
   "source": [
    "T10_21 = np.dot(T1_a_0, T2_a_1)\n",
    "Tfinal = np.dot(np.dot(T1_a_0, T2_a_1), T3_a_2) \n",
    "\n",
    "print(\"\\nMatriz de Transformacion TF (0 -> 3):\\n\\n\", np.matrix(Tfinal).round(3) )"
   ]
  },
  {
   "attachments": {},
   "cell_type": "markdown",
   "metadata": {},
   "source": [
    "Matriz DH"
   ]
  },
  {
   "cell_type": "code",
   "execution_count": 105,
   "metadata": {},
   "outputs": [
    {
     "name": "stdout",
     "output_type": "stream",
     "text": [
      "\n",
      "Matriz de Transformacion Final (P3):\n",
      " [[ 6.35000e-01  3.12000e-01  7.07000e-01  2.97972e+02]\n",
      " [ 6.35000e-01  3.12000e-01 -7.07000e-01  2.97972e+02]\n",
      " [-4.41000e-01  8.98000e-01  0.00000e+00  3.28341e+02]\n",
      " [ 0.00000e+00  0.00000e+00  0.00000e+00  1.00000e+00]]\n",
      "\n",
      "Matriz de Transformacion Parcial (P2):\n",
      " [[ 6.03000e-01 -3.69000e-01  7.07000e-01  1.50727e+02]\n",
      " [ 6.03000e-01 -3.69000e-01 -7.07000e-01  1.50727e+02]\n",
      " [ 5.22000e-01  8.53000e-01  0.00000e+00  4.30624e+02]\n",
      " [ 0.00000e+00  0.00000e+00  0.00000e+00  1.00000e+00]]\n",
      "\n",
      "Matriz de Transformacion Parcial (P2):\n",
      " [[ 6.03000e-01 -3.69000e-01  7.07000e-01  1.50727e+02]\n",
      " [ 6.03000e-01 -3.69000e-01 -7.07000e-01  1.50727e+02]\n",
      " [ 5.22000e-01  8.53000e-01  0.00000e+00  4.30624e+02]\n",
      " [ 0.00000e+00  0.00000e+00  0.00000e+00  1.00000e+00]]\n",
      "\n",
      "Matriz de Transformacion Parcial 1 (P1):\n",
      " [[  0.707   0.      0.707  -0.   ]\n",
      " [  0.707   0.     -0.707  -0.   ]\n",
      " [  0.      1.      0.    300.   ]\n",
      " [  0.      0.      0.      1.   ]]\n"
     ]
    }
   ],
   "source": [
    "print(\"\\nMatriz de Transformacion Final (P3):\\n\", Tfinal.round(3))\n",
    "\n",
    "P2 = np.dot(T1_a_0, T2_a_1)\n",
    "print(\"\\nMatriz de Transformacion Parcial (P2):\\n\", P2.round(3))\n",
    "\n",
    "P2_1 = np.dot(Tfinal,  np.linalg.inv(T3_a_2) )\n",
    "print(\"\\nMatriz de Transformacion Parcial (P2):\\n\", P2_1.round(3))\n",
    "\n",
    "P1 = np.dot( P2, np.linalg.inv(T2_a_1) )\n",
    "print(\"\\nMatriz de Transformacion Parcial 1 (P1):\\n\", P1.round(3))\n"
   ]
  },
  {
   "cell_type": "code",
   "execution_count": 106,
   "metadata": {},
   "outputs": [
    {
     "name": "stdout",
     "output_type": "stream",
     "text": [
      "======== P3 ========\n",
      "xJ3: 297.972\n",
      "yJ3: 297.972\n",
      "zJ3: 328.341\n",
      "======== P2 ========\n",
      "\n",
      "xJ2: 150.727\n",
      "yJ2: 150.727\n",
      "zJ2: 430.624\n",
      "======== P1 ========\n",
      "\n",
      "xJ1: -0.0\n",
      "yJ1: -0.0\n",
      "zJ1: 300.0\n"
     ]
    }
   ],
   "source": [
    "print(\"======== P3 ========\")\n",
    "xJ3 = Tfinal[0,3]\n",
    "yJ3 = Tfinal[1,3]\n",
    "zJ3 = Tfinal[2,3]\n",
    "print(\"xJ3:\", xJ3.round(3))\n",
    "print(\"yJ3:\", yJ3.round(3))\n",
    "print(\"zJ3:\", zJ3.round(3))\n",
    "\n",
    "print(\"======== P2 ========\")\n",
    "xJ2 = P2[0,3]\n",
    "yJ2 = P2[1,3]\n",
    "zJ2 = P2[2,3]\n",
    "print(\"\\nxJ2:\", xJ2.round(3))\n",
    "print(\"yJ2:\", yJ2.round(3))\n",
    "print(\"zJ2:\", zJ2.round(3))\n",
    "\n",
    "print(\"======== P1 ========\")\n",
    "xJ1 = P1[0,3]\n",
    "yJ1 = P1[1,3]\n",
    "zJ1 = P1[2,3]\n",
    "print(\"\\nxJ1:\", xJ1.round(3))\n",
    "print(\"yJ1:\", yJ1.round(3))\n",
    "print(\"zJ1:\", zJ1.round(3))"
   ]
  },
  {
   "cell_type": "code",
   "execution_count": 107,
   "metadata": {},
   "outputs": [
    {
     "data": {
      "image/png": "[encoded data removed]",
      "text/plain": [
       "<Figure size 432x288 with 1 Axes>"
      ]
     },
     "metadata": {
      "needs_background": "light"
     },
     "output_type": "display_data"
    }
   ],
   "source": [
    "fix, axes = plt.subplots()\n",
    "plt.plot(xJ1, 0, 'o')\n",
    "plt.plot(xJ1, yJ1, 'o')\n",
    "plt.plot(xJ2, yJ2, 'o')\n",
    "plt.plot(xJ3, yJ3, 'o')\n",
    "plt.plot([xJ1, xJ1, xJ2, xJ3], [0, yJ1, yJ2, yJ3])\n",
    "plt.title(\"Matrices DH y Transformacion Homegenea Brazo\")\n",
    "plt.xlabel(\"Posicion X (mm)\")\n",
    "plt.ylabel(\"Posicion Y (mm)\")\n",
    "plt.grid()\n",
    "plt.show()"
   ]
  },
  {
   "cell_type": "code",
   "execution_count": 108,
   "metadata": {},
   "outputs": [
    {
     "data": {
      "image/png": "[encoded data removed]",
      "text/plain": [
       "<Figure size 432x288 with 1 Axes>"
      ]
     },
     "metadata": {
      "needs_background": "light"
     },
     "output_type": "display_data"
    }
   ],
   "source": [
    "\n",
    "figura = plt.figure()\n",
    "grafica = figura.add_subplot(111, projection='3d')\n",
    "grafica.scatter(xJ1, 0, Zp, c='blue', marker='o', label = 'Origen')\n",
    "grafica.scatter(xJ1, yJ1, Zp+a1, c='orange', marker='o', label = 'P1')\n",
    "grafica.scatter(xJ2, yJ2, Zp+a2, c='green', marker='o', label = 'P2')\n",
    "grafica.scatter(xJ3, yJ3, Zp+a3, c='red', marker='o', label = 'P3')\n",
    "\n",
    "\n",
    "X = np.array([xJ1, xJ1, xJ2, xJ3])\n",
    "Y = np.array([0, yJ1, yJ2, yJ3])\n",
    "Z = np.array([Zp, Zp+a1, Zp+a2, Zp+a3])\n",
    "\n",
    "\n",
    "#grafica.plot(X,Z)\n",
    "grafica.plot(X, Y, Z)\n",
    "grafica.set_xlabel('Eje X')\n",
    "grafica.set_ylabel('Eje Y')\n",
    "grafica.set_zlabel('Eje Z')\n",
    "grafica.legend()\n",
    "#grafica.view_init(50, 250)\n",
    "grafica.view_init(0, -95) # PLANO XZ\n",
    "#grafica.view_init(80, 265) #2D VIEW PLANO XY\n",
    "plt.show()"
   ]
  },
  {
   "cell_type": "code",
   "execution_count": 113,
   "metadata": {},
   "outputs": [
    {
     "data": {
      "image/png": "[encoded data removed]",
      "text/plain": [
       "<Figure size 576x288 with 3 Axes>"
      ]
     },
     "metadata": {
      "needs_background": "light"
     },
     "output_type": "display_data"
    }
   ],
   "source": [
    "fig = plt.figure(figsize=plt.figaspect(0.5))\n",
    "grafica = fig.add_subplot(1, 2, 1, projection='3d')\n",
    "grafica.scatter(xJ1, 0, Zp, c='blue', marker='o', label = 'Origen')\n",
    "grafica.scatter(xJ1, yJ1, Zp+a1, c='orange', marker='o', label = 'P1')\n",
    "grafica.scatter(xJ2, yJ2, Zp+a2, c='green', marker='o', label = 'P2')\n",
    "grafica.scatter(xJ3, yJ3, Zp+a3, c='red', marker='o', label = 'P3')\n",
    "\n",
    "X = np.array([xJ1, xJ1, xJ2, xJ3])\n",
    "Y = np.array([0, yJ1, yJ2, yJ3])\n",
    "Z = np.array([Zp, Zp+a1, Zp+a2, Zp+a3])\n",
    "\n",
    "# =============== GRAFICO PLANO XZ ===============\n",
    "\n",
    "#grafica.plot(X,Z)\n",
    "grafica.plot(X, Y, Z)\n",
    "grafica.set_xlabel('Eje X')\n",
    "grafica.set_ylabel('Eje Y')\n",
    "grafica.set_zlabel('Eje Z')\n",
    "grafica.legend()\n",
    "plt.title('Grafico Plano XZ')\n",
    "#grafica.view_init(50, 250)\n",
    "grafica.view_init(0, -95) # PLANO XZ\n",
    "#grafica.view_init(80, 265) #2D VIEW PLANO XY\n",
    "\n",
    "\n",
    "\n",
    "\n",
    "# =============== GRAFICO PLANO XY ===============\n",
    "\n",
    "ax = fig.add_subplot(1, 2, 2, projection='3d')\n",
    "\n",
    "grafica = fig.add_subplot(1, 2, 2, projection='3d')\n",
    "grafica.scatter(xJ1, 0, Zp, c='blue', marker='o', label = 'Origen')\n",
    "grafica.scatter(xJ1, yJ1, Zp+a1, c='orange', marker='o', label = 'P1')\n",
    "grafica.scatter(xJ2, yJ2, Zp+a2, c='green', marker='o', label = 'P2')\n",
    "grafica.scatter(xJ3, yJ3, Zp+a3, c='red', marker='o', label = 'P3')\n",
    "\n",
    "X = np.array([xJ1, xJ1, xJ2, xJ3])\n",
    "Y = np.array([0, yJ1, yJ2, yJ3])\n",
    "Z = np.array([Zp, Zp+a1, Zp+a2, Zp+a3])\n",
    "grafica.plot(X, Y, Z)\n",
    "grafica.set_xlabel('Eje X')\n",
    "grafica.set_ylabel('Eje Y')\n",
    "grafica.set_zlabel('Eje Z')\n",
    "grafica.legend()\n",
    "plt.title('Grafico Plano XY')\n",
    "#grafica.view_init(50, 250)\n",
    "#grafica.view_init(0, -95) # PLANO XZ\n",
    "grafica.view_init(80, 270) # PLANO XY\n",
    "\n",
    "plt.show()"
   ]
  }
 ],
 "metadata": {
  "kernelspec": {
   "display_name": "Python 3",
   "language": "python",
   "name": "python3"
  },
  "language_info": {
   "codemirror_mode": {
    "name": "ipython",
    "version": 3
   },
   "file_extension": ".py",
   "mimetype": "text/x-python",
   "name": "python",
   "nbconvert_exporter": "python",
   "pygments_lexer": "ipython3",
   "version": "3.10.4"
  },
  "orig_nbformat": 4,
  "vscode": {
   "interpreter": {
    "hash": "aee8b7b246df8f9039afb4144a1f6fd8d2ca17a180786b69acc140d282b71a49"
   }
  }
 },
 "nbformat": 4,
 "nbformat_minor": 2
}
