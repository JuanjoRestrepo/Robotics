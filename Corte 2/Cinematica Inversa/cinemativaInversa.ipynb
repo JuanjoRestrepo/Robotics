{
 "cells": [
  {
   "cell_type": "code",
   "execution_count": 26,
   "metadata": {},
   "outputs": [],
   "source": [
    "import numpy as np\n",
    "import matplotlib.pyplot as plt\n",
    "from mpl_toolkits.mplot3d import Axes3D"
   ]
  },
  {
   "attachments": {},
   "cell_type": "markdown",
   "metadata": {},
   "source": [
    "# Cinemática Inversa (I.K.)"
   ]
  },
  {
   "attachments": {},
   "cell_type": "markdown",
   "metadata": {},
   "source": [
    "**Parámetros**"
   ]
  },
  {
   "cell_type": "code",
   "execution_count": 27,
   "metadata": {},
   "outputs": [],
   "source": [
    "#Xp = int(input(\"Introduza el valor de Xp: \"))\n",
    "#Yp = int(input(\"Introduza el valor de Yp: \"))\n",
    "Xp = 291.421\n",
    "Yp = 91.421\n",
    "Zp = 80"
   ]
  },
  {
   "attachments": {},
   "cell_type": "markdown",
   "metadata": {},
   "source": [
    "**Hallamos Theta 1**"
   ]
  },
  {
   "cell_type": "code",
   "execution_count": 28,
   "metadata": {},
   "outputs": [
    {
     "name": "stdout",
     "output_type": "stream",
     "text": [
      "Theta 1:  0.30398 rads\n"
     ]
    }
   ],
   "source": [
    "theta1 = np.arctan(Yp/Xp)\n",
    "print(\"Theta 1: \", theta1.round(5), \"rads\")"
   ]
  },
  {
   "attachments": {},
   "cell_type": "markdown",
   "metadata": {},
   "source": [
    "**Hallamos Theta 3**"
   ]
  },
  {
   "cell_type": "code",
   "execution_count": 29,
   "metadata": {},
   "outputs": [
    {
     "name": "stdout",
     "output_type": "stream",
     "text": [
      "P1_X:  305.424\n",
      "P1_z:  80\n",
      "Punto P:  315.728\n"
     ]
    }
   ],
   "source": [
    "P1_x = np.sqrt(Xp**2 + Yp**2)\n",
    "print(\"P1_X: \", P1_x.round(3))\n",
    "P1_z = Zp\n",
    "print(\"P1_z: \", P1_z)\n",
    "P = np.sqrt( (P1_x**2) + (P1_z**2) )\n",
    "print(\"Punto P: \", P.round(3))\n",
    "\n",
    "a2 = 200\n",
    "a3 = 150"
   ]
  },
  {
   "attachments": {},
   "cell_type": "markdown",
   "metadata": {},
   "source": [
    "Despejando Theta 3 de nuestra ecuacion"
   ]
  },
  {
   "cell_type": "code",
   "execution_count": 30,
   "metadata": {},
   "outputs": [
    {
     "name": "stdout",
     "output_type": "stream",
     "text": [
      "Theta 3_1:  0.9024 rads\n",
      "Theta 3_2:  -0.9024 rads\n"
     ]
    }
   ],
   "source": [
    "#from sympy.solvers import solve\n",
    "#from math import atan, pi, cos, sin, acos, asin\n",
    "\n",
    "#theta3 = np.arccos( (P1_x**2 + P1_z**2 - a2**2 - a3**2)/(2*a2*a3) )\n",
    "#print(theta3)\n",
    "\n",
    "#Theta_3 = acos( (P1_x**2 + P1_z**2 - a2**2 - a3**2)/(2*a2*a3) ) \n",
    "#print(Theta_3)\n",
    "\n",
    "\n",
    "D = (P1_x**2 + P1_z**2 - a2**2 - a3**2)/(2*a2*a3)\n",
    "theta3_1 = np.arctan( np.sqrt(1-D**2)/D )\n",
    "theta3_2 = np.arctan( -np.sqrt(1-D**2)/D )\n",
    "\n",
    "print(\"Theta 3_1: \", theta3_1.round(4), \"rads\" )\n",
    "print(\"Theta 3_2: \", theta3_2.round(4), \"rads\" )\n",
    "#solve(x**2 - 1, x)"
   ]
  },
  {
   "attachments": {},
   "cell_type": "markdown",
   "metadata": {},
   "source": [
    "**Hallamos Theta 2**"
   ]
  },
  {
   "cell_type": "code",
   "execution_count": 31,
   "metadata": {},
   "outputs": [
    {
     "name": "stdout",
     "output_type": "stream",
     "text": [
      "Theta 2_1:  0.638 rads\n"
     ]
    }
   ],
   "source": [
    "theta2_1 = np.arccos( (P1_x**2 + P1_z**2 + a2**2 - a3**2)/(2*a2*np.sqrt( (P1_x**2) + (P1_z**2) ) ) ) + np.arctan(P1_z/P1_x)\n",
    "theta2_2 = -np.arccos( (P1_x**2 + P1_z**2 + a2**2 - a3**2)/(2*a2*np.sqrt( (P1_x**2) + (P1_z**2) ) ) ) + np.arctan(P1_z/P1_x)\n",
    "\n",
    "print(\"Theta 2_1: \", theta2_1.round(3), \"rads\")\n",
    "#print(\"Theta 2_2: \", theta2_2.round(3), \"rads\")"
   ]
  },
  {
   "attachments": {},
   "cell_type": "markdown",
   "metadata": {},
   "source": [
    "Conversion Radianes a Grados"
   ]
  },
  {
   "cell_type": "code",
   "execution_count": 32,
   "metadata": {},
   "outputs": [
    {
     "name": "stdout",
     "output_type": "stream",
     "text": [
      "tetha 1:  17.417 °\n",
      "tetha 2:  36.57 °\n",
      "tetha 3:  -51.703 °\n"
     ]
    }
   ],
   "source": [
    "tetha1Deg = (theta1*180)/np.pi\n",
    "\n",
    "tetha2Deg = (theta2_1*180)/np.pi\n",
    "\n",
    "tetha3Deg = (theta3_2*180)/np.pi\n",
    "\n",
    "\n",
    "print(\"tetha 1: \", tetha1Deg.round(3), \"°\")\n",
    "print(\"tetha 2: \", tetha2Deg.round(3), \"°\")\n",
    "print(\"tetha 3: \", tetha3Deg.round(3), \"°\")\n"
   ]
  },
  {
   "attachments": {},
   "cell_type": "markdown",
   "metadata": {},
   "source": [
    "Una vez calculamos los ángulos theta 1, theta 2 y theta 3; procedemos al método de Cinemática Directa"
   ]
  },
  {
   "attachments": {},
   "cell_type": "markdown",
   "metadata": {},
   "source": [
    "# Cinemática Directa (D.K.)"
   ]
  },
  {
   "cell_type": "code",
   "execution_count": 33,
   "metadata": {},
   "outputs": [],
   "source": [
    "a1 = 50\n",
    "a2 = 200\n",
    "a3 = 150\n",
    "\n",
    "b1 = 0\n",
    "b2 = 0\n",
    "b3 = 0\n",
    "\n",
    "alpha1 = 0\n",
    "alpha2 = 0\n",
    "alpha3 = 0"
   ]
  },
  {
   "attachments": {},
   "cell_type": "markdown",
   "metadata": {},
   "source": [
    "Conversion Grados a Radianes"
   ]
  },
  {
   "cell_type": "code",
   "execution_count": 34,
   "metadata": {},
   "outputs": [
    {
     "name": "stdout",
     "output_type": "stream",
     "text": [
      "tetha 1: 0.304 rads\n",
      "alpha 1: 0.0 rads\n",
      "\n",
      "tetha 2: 0.638 rads\n",
      "alpha 2: 0.0 rads\n",
      "\n",
      "tetha 3: -0.9024 rads\n",
      "alpha 3: 0.0 rads\n"
     ]
    }
   ],
   "source": [
    "tetha1R = (tetha1Deg*np.pi)/180\n",
    "alpha1R = (alpha1*np.pi)/180\n",
    "\n",
    "tetha2R = (tetha2Deg*np.pi)/180\n",
    "alpha2R = (alpha2*np.pi)/180\n",
    "\n",
    "tetha3R = (tetha3Deg*np.pi)/180\n",
    "alpha3R = (alpha3*np.pi)/180\n",
    "\n",
    "print(\"tetha 1: {} rads\\nalpha 1: {} rads\".format(tetha1R.round(3), alpha1R) )\n",
    "print(\"\\ntetha 2: {} rads\\nalpha 2: {} rads\".format(tetha2R.round(3), alpha2R) )\n",
    "print(\"\\ntetha 3: {} rads\\nalpha 3: {} rads\".format(tetha3R.round(4), alpha3R) )\n"
   ]
  },
  {
   "attachments": {},
   "cell_type": "markdown",
   "metadata": {},
   "source": [
    "Matrices de Transformacion Homegenea"
   ]
  },
  {
   "cell_type": "code",
   "execution_count": 35,
   "metadata": {},
   "outputs": [],
   "source": [
    "# Parametros b ( desplazamiento en el eje Z )\n",
    "\n",
    "Tb1 = [[1, 0, 0, 0],\n",
    "      [0, 1, 0, 0],\n",
    "      [0, 0, 1, b1],\n",
    "      [0, 0, 0, 1]]\n",
    "\n",
    "Tb2 = [[1, 0, 0, 0],\n",
    "      [0, 1, 0, 0],\n",
    "      [0, 0, 1, b2],\n",
    "      [0, 0, 0, 1]]\n",
    "\n",
    "Tb3 = [[1, 0, 0, 0],\n",
    "      [0, 1, 0, 0],\n",
    "      [0, 0, 1, b3],\n",
    "      [0, 0, 0, 1]]"
   ]
  },
  {
   "cell_type": "code",
   "execution_count": 36,
   "metadata": {},
   "outputs": [
    {
     "name": "stdout",
     "output_type": "stream",
     "text": [
      "Ttetha1:\n",
      " [[ 0.954 -0.299  0.     0.   ]\n",
      " [ 0.299  0.954  0.     0.   ]\n",
      " [ 0.     0.     1.     0.   ]\n",
      " [ 0.     0.     0.     1.   ]]\n",
      "\n",
      "Ttetha2:\n",
      " [[ 0.803 -0.596  0.     0.   ]\n",
      " [ 0.596  0.803  0.     0.   ]\n",
      " [ 0.     0.     1.     0.   ]\n",
      " [ 0.     0.     0.     1.   ]]\n",
      "\n",
      "Ttetha3:\n",
      " [[ 0.62   0.785  0.     0.   ]\n",
      " [-0.785  0.62   0.     0.   ]\n",
      " [ 0.     0.     1.     0.   ]\n",
      " [ 0.     0.     0.     1.   ]]\n"
     ]
    }
   ],
   "source": [
    "# Parametros Tetha ( Rotacion en el eje Z )\n",
    "\n",
    "Ttetha1 = [[np.cos(tetha1R), -np.sin(tetha1R), 0, 0],\n",
    "          [np.sin(tetha1R), np.cos(tetha1R), 0, 0],\n",
    "          [0, 0, 1, 0],\n",
    "          [0, 0, 0, 1]]\n",
    "\n",
    "Ttetha2 = [[np.cos(tetha2R), -np.sin(tetha2R), 0, 0],\n",
    "          [np.sin(tetha2R), np.cos(tetha2R), 0, 0],\n",
    "          [0, 0, 1, 0],\n",
    "          [0, 0, 0, 1]]\n",
    "Ttetha3 = [[np.cos(tetha3R), -np.sin(tetha3R), 0, 0],\n",
    "          [np.sin(tetha3R), np.cos(tetha3R), 0, 0],\n",
    "          [0, 0, 1, 0],\n",
    "          [0, 0, 0, 1]]\n",
    "\n",
    "print(\"Ttetha1:\\n\", np.matrix(Ttetha1).round(3) )\n",
    "print(\"\\nTtetha2:\\n\", np.matrix(Ttetha2).round(3) )\n",
    "print(\"\\nTtetha3:\\n\", np.matrix(Ttetha3).round(3) )"
   ]
  },
  {
   "cell_type": "code",
   "execution_count": 37,
   "metadata": {},
   "outputs": [],
   "source": [
    "# Parametros a ( desplazamiento del eslabon en el eje X  )\n",
    "\n",
    "Ta1 = [[1, 0, 0, a1],\n",
    "      [0, 1, 0, 0],\n",
    "      [0, 0, 1, 0],\n",
    "      [0, 0, 0, 1]]\n",
    "\n",
    "Ta2 = [[1, 0, 0, a2],\n",
    "      [0, 1, 0, 0],\n",
    "      [0, 0, 1, 0],\n",
    "      [0, 0, 0, 1]]\n",
    "\n",
    "Ta3 = [[1, 0, 0, a3],\n",
    "      [0, 1, 0, 0],\n",
    "      [0, 0, 1, 0],\n",
    "      [0, 0, 0, 1]]"
   ]
  },
  {
   "cell_type": "code",
   "execution_count": 38,
   "metadata": {},
   "outputs": [
    {
     "name": "stdout",
     "output_type": "stream",
     "text": [
      "Talpha1:\n",
      " [[ 1.  0.  0.  0.]\n",
      " [ 0.  1. -0.  0.]\n",
      " [ 0.  0.  1.  0.]\n",
      " [ 0.  0.  0.  1.]]\n",
      "\n",
      "Talpha2:\n",
      " [[ 1.  0.  0.  0.]\n",
      " [ 0.  1. -0.  0.]\n",
      " [ 0.  0.  1.  0.]\n",
      " [ 0.  0.  0.  1.]]\n",
      "\n",
      "Talpha3:\n",
      " [[ 1.  0.  0.  0.]\n",
      " [ 0.  1. -0.  0.]\n",
      " [ 0.  0.  1.  0.]\n",
      " [ 0.  0.  0.  1.]]\n"
     ]
    }
   ],
   "source": [
    "Talpha1 = [[1, 0, 0, 0],\n",
    "         [0, np.cos(alpha1R), -np.sin(alpha1R), 0],\n",
    "          [0, np.sin(alpha1R), np.cos(alpha1R), 0],\n",
    "          [0, 0, 0, 1]]\n",
    "\n",
    "Talpha2 = [[1, 0, 0, 0],\n",
    "         [0, np.cos(alpha2R), -np.sin(alpha2R), 0],\n",
    "          [0, np.sin(alpha2R), np.cos(alpha2R), 0],\n",
    "          [0, 0, 0, 1]]\n",
    "\n",
    "Talpha3 = [[1, 0, 0, 0],\n",
    "         [0, np.cos(alpha3R), -np.sin(alpha3R), 0],\n",
    "          [0, np.sin(alpha3R), np.cos(alpha3R), 0],\n",
    "          [0, 0, 0, 1]]\n",
    "\n",
    "print(\"Talpha1:\\n\", np.matrix(Talpha1) )\n",
    "print(\"\\nTalpha2:\\n\", np.matrix(Talpha2) )\n",
    "print(\"\\nTalpha3:\\n\", np.matrix(Talpha3).round(3) )"
   ]
  },
  {
   "cell_type": "code",
   "execution_count": 39,
   "metadata": {},
   "outputs": [
    {
     "name": "stdout",
     "output_type": "stream",
     "text": [
      "\n",
      "Matriz de Transformacion T1 -> 0 (TL1): (a1 = 50 mm, b1 = 0, tetha1 = 0.304°, alpha1 = 0.0°)\n",
      "\n",
      " [[ 0.954 -0.299  0.    47.708]\n",
      " [ 0.299  0.954  0.    14.966]\n",
      " [ 0.     0.     1.     0.   ]\n",
      " [ 0.     0.     0.     1.   ]]\n"
     ]
    }
   ],
   "source": [
    "#T1_1 = np.dot(Tb1, Ttetha1)\n",
    "#T1_2 = np.dot(T1_1, Ta1)\n",
    "#T1_a_0 = np.dot(T1_2, Talpha1)\n",
    "\n",
    "T1_a_0 = np.dot(np.dot(np.dot(Tb1, Ttetha1), Ta1), Talpha1)\n",
    "\n",
    "print(\"\\nMatriz de Transformacion T1 -> 0 (TL1): (a1 = {} mm, b1 = {}, tetha1 = {}°, alpha1 = {}°)\\n\\n\" .format(a1, b1, tetha1R.round(3), alpha1R), np.matrix(T1_a_0).round(3) )"
   ]
  },
  {
   "cell_type": "code",
   "execution_count": 40,
   "metadata": {},
   "outputs": [
    {
     "name": "stdout",
     "output_type": "stream",
     "text": [
      "\n",
      "Matriz de Transformacion T2 -> 1 (TL2): (a2 = 200 mm, b2 = 0, tetha2 = 0.638°, alpha2 = 0.0°)\n",
      "\n",
      " [[  0.803  -0.596   0.    160.626]\n",
      " [  0.596   0.803   0.    119.16 ]\n",
      " [  0.      0.      1.      0.   ]\n",
      " [  0.      0.      0.      1.   ]]\n"
     ]
    }
   ],
   "source": [
    "#T2_1 = np.dot(Tb2, Ttetha2)\n",
    "#T2_2 = np.dot(T2_1, Ta2)\n",
    "\n",
    "T2_a_1 = np.dot(np.dot(np.dot(Tb2, Ttetha2), Ta2), Talpha2)\n",
    "\n",
    "print(\"\\nMatriz de Transformacion T2 -> 1 (TL2): (a2 = {} mm, b2 = {}, tetha2 = {}°, alpha2 = {}°)\\n\\n\".format(a2, b2, tetha2R.round(3), alpha2R), np.matrix(T2_a_1).round(3) )"
   ]
  },
  {
   "cell_type": "code",
   "execution_count": 41,
   "metadata": {},
   "outputs": [
    {
     "name": "stdout",
     "output_type": "stream",
     "text": [
      "\n",
      "Matriz de Transformacion T3 -> 2 (TL3): (a3 = 150 mm, b3 = 0, tetha3 = -0.902°, alpha3 = 0.0°)\n",
      "\n",
      " [[   0.62     0.785    0.      92.96 ]\n",
      " [  -0.785    0.62     0.    -117.722]\n",
      " [   0.       0.       1.       0.   ]\n",
      " [   0.       0.       0.       1.   ]]\n"
     ]
    }
   ],
   "source": [
    "#T3_1 = np.dot(Tb3, Ttetha3)\n",
    "#T3_2 = np.dot(T3_1, Ta3)\n",
    "\n",
    "T3_a_2 = np.dot(np.dot(np.dot(Tb3, Ttetha3), Ta3), Talpha3)\n",
    "\n",
    "print(\"\\nMatriz de Transformacion T3 -> 2 (TL3): (a3 = {} mm, b3 = {}, tetha3 = {}°, alpha3 = {}°)\\n\\n\".format(a3, b3, tetha3R.round(3), alpha3R), np.matrix(T3_a_2).round(3)  )"
   ]
  },
  {
   "cell_type": "code",
   "execution_count": 42,
   "metadata": {},
   "outputs": [
    {
     "name": "stdout",
     "output_type": "stream",
     "text": [
      "\n",
      "Matriz de Transformacion TF (0 -> 3):\n",
      "\n",
      " [[ 9.99000e-01 -4.00000e-02  0.00000e+00  3.15183e+02]\n",
      " [ 4.00000e-02  9.99000e-01  0.00000e+00  1.82719e+02]\n",
      " [ 0.00000e+00  0.00000e+00  1.00000e+00  0.00000e+00]\n",
      " [ 0.00000e+00  0.00000e+00  0.00000e+00  1.00000e+00]]\n"
     ]
    }
   ],
   "source": [
    "T10_21 = np.dot(T1_a_0, T2_a_1)\n",
    "Tfinal = np.dot(np.dot(T1_a_0, T2_a_1), T3_a_2) \n",
    "\n",
    "print(\"\\nMatriz de Transformacion TF (0 -> 3):\\n\\n\", np.matrix(Tfinal).round(3) )"
   ]
  },
  {
   "attachments": {},
   "cell_type": "markdown",
   "metadata": {},
   "source": [
    "Matriz DH"
   ]
  },
  {
   "cell_type": "code",
   "execution_count": 43,
   "metadata": {},
   "outputs": [
    {
     "name": "stdout",
     "output_type": "stream",
     "text": [
      "\n",
      "Matriz de Transformacion Final (P3):\n",
      " [[ 9.99000e-01 -4.00000e-02  0.00000e+00  3.15183e+02]\n",
      " [ 4.00000e-02  9.99000e-01  0.00000e+00  1.82719e+02]\n",
      " [ 0.00000e+00  0.00000e+00  1.00000e+00  0.00000e+00]\n",
      " [ 0.00000e+00  0.00000e+00  0.00000e+00  1.00000e+00]]\n",
      "\n",
      "Matriz de Transformacion Parcial (P2):\n",
      " [[  0.588  -0.809   0.    165.302]\n",
      " [  0.809   0.588   0.    176.743]\n",
      " [  0.      0.      1.      0.   ]\n",
      " [  0.      0.      0.      1.   ]]\n",
      "\n",
      "Matriz de Transformacion Parcial (P2):\n",
      " [[  0.588  -0.809   0.    165.302]\n",
      " [  0.809   0.588   0.    176.743]\n",
      " [  0.      0.      1.      0.   ]\n",
      " [  0.      0.      0.      1.   ]]\n",
      "\n",
      "Matriz de Transformacion Parcial 1 (P1):\n",
      " [[ 0.954 -0.299  0.    47.708]\n",
      " [ 0.299  0.954  0.    14.966]\n",
      " [ 0.     0.     1.     0.   ]\n",
      " [ 0.     0.     0.     1.   ]]\n"
     ]
    }
   ],
   "source": [
    "print(\"\\nMatriz de Transformacion Final (P3):\\n\", Tfinal.round(3))\n",
    "\n",
    "P2 = np.dot(T1_a_0, T2_a_1)\n",
    "print(\"\\nMatriz de Transformacion Parcial (P2):\\n\", P2.round(3))\n",
    "\n",
    "P2_1 = np.dot(Tfinal,  np.linalg.inv(T3_a_2) )\n",
    "print(\"\\nMatriz de Transformacion Parcial (P2):\\n\", P2_1.round(3))\n",
    "\n",
    "P1 = np.dot( P2, np.linalg.inv(T2_a_1) )\n",
    "print(\"\\nMatriz de Transformacion Parcial 1 (P1):\\n\", P1.round(3))\n"
   ]
  },
  {
   "cell_type": "code",
   "execution_count": 44,
   "metadata": {},
   "outputs": [
    {
     "name": "stdout",
     "output_type": "stream",
     "text": [
      "======== P3 ========\n",
      "xJ3: 315.183\n",
      "yJ3: 182.719\n",
      "======== P2 ========\n",
      "\n",
      "xJ2: 165.302\n",
      "yJ2: 176.743\n",
      "======== P1 ========\n",
      "\n",
      "xJ1: 47.708\n",
      "yJ1: 47.708\n"
     ]
    }
   ],
   "source": [
    "print(\"======== P3 ========\")\n",
    "xJ3 = Tfinal[0,3]\n",
    "yJ3 = Tfinal[1,3]\n",
    "print(\"xJ3:\", xJ3.round(3))\n",
    "print(\"yJ3:\", yJ3.round(3))\n",
    "\n",
    "print(\"======== P2 ========\")\n",
    "xJ2 = P2[0,3]\n",
    "yJ2 = P2[1,3]\n",
    "print(\"\\nxJ2:\", xJ2.round(3))\n",
    "print(\"yJ2:\", yJ2.round(3))\n",
    "\n",
    "print(\"======== P1 ========\")\n",
    "xJ1 = P1[0,3]\n",
    "yJ1 = P1[1,3]\n",
    "print(\"\\nxJ1:\", xJ1.round(3))\n",
    "print(\"yJ1:\", xJ1.round(3))"
   ]
  },
  {
   "cell_type": "code",
   "execution_count": 45,
   "metadata": {},
   "outputs": [
    {
     "data": {
      "image/png": "[encoded data removed]",
      "text/plain": [
       "<Figure size 432x288 with 1 Axes>"
      ]
     },
     "metadata": {
      "needs_background": "light"
     },
     "output_type": "display_data"
    }
   ],
   "source": [
    "fix, axes = plt.subplots()\n",
    "plt.plot(0,0,'o')\n",
    "plt.plot(xJ1, yJ1, 'o')\n",
    "plt.plot(xJ2, yJ2, 'o')\n",
    "plt.plot(xJ3, yJ3, 'o')\n",
    "plt.plot([0, xJ1, xJ2, xJ3], [0, yJ1, yJ2, yJ3])\n",
    "plt.title(\"Matrices DH y Transformacion Homegenea Brazo\")\n",
    "plt.xlabel(\"Posicion X (mm)\")\n",
    "plt.ylabel(\"Posicion Y (mm)\")\n",
    "plt.show()"
   ]
  }
 ],
 "metadata": {
  "kernelspec": {
   "display_name": "Python 3",
   "language": "python",
   "name": "python3"
  },
  "language_info": {
   "codemirror_mode": {
    "name": "ipython",
    "version": 3
   },
   "file_extension": ".py",
   "mimetype": "text/x-python",
   "name": "python",
   "nbconvert_exporter": "python",
   "pygments_lexer": "ipython3",
   "version": "3.10.4"
  },
  "orig_nbformat": 4
 },
 "nbformat": 4,
 "nbformat_minor": 2
}
