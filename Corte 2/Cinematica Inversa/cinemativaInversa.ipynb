{
 "cells": [
  {
   "cell_type": "code",
   "execution_count": 960,
   "metadata": {},
   "outputs": [],
   "source": [
    "import numpy as np\n",
    "import matplotlib.pyplot as plt\n",
    "from mpl_toolkits.mplot3d import Axes3D"
   ]
  },
  {
   "attachments": {},
   "cell_type": "markdown",
   "metadata": {},
   "source": [
    "# Cinemática Inversa (I.K.)"
   ]
  },
  {
   "attachments": {},
   "cell_type": "markdown",
   "metadata": {},
   "source": [
    "**Parámetros**"
   ]
  },
  {
   "cell_type": "code",
   "execution_count": 961,
   "metadata": {},
   "outputs": [],
   "source": [
    "#Xp = int(input(\"Introduza el valor de Xp: \"))\n",
    "#Yp = int(input(\"Introduza el valor de Yp: \"))\n",
    "#Zp = int(input(\"Introduza el valor de Zp: \"))\n",
    "Xp = 291.421\n",
    "Yp = 91.421\n",
    "Zp = 80"
   ]
  },
  {
   "attachments": {},
   "cell_type": "markdown",
   "metadata": {},
   "source": [
    "## **Hallamos Theta 1**\n",
    "\n",
    "$$\n",
    "\\theta1 = \\arctan(\\frac{y_p}{x_p})\n",
    "$$"
   ]
  },
  {
   "cell_type": "code",
   "execution_count": 962,
   "metadata": {},
   "outputs": [
    {
     "name": "stdout",
     "output_type": "stream",
     "text": [
      "Theta 1:  0.30398 rads\n"
     ]
    }
   ],
   "source": [
    "theta1 = np.arctan(Yp/Xp)\n",
    "print(\"Theta 1: \", theta1.round(5), \"rads\")"
   ]
  },
  {
   "attachments": {},
   "cell_type": "markdown",
   "metadata": {},
   "source": [
    "## **Hallamos Theta 3**\n",
    "\n",
    "$$\n",
    "P_1x = \\sqrt(x_p^2 + y_p^2) \\\\\n",
    "P_1z = z_p \\\\\n",
    "P = \\sqrt(P_1x^2 + P_1z^2) \\\\\n",
    "$$"
   ]
  },
  {
   "cell_type": "code",
   "execution_count": 963,
   "metadata": {},
   "outputs": [
    {
     "name": "stdout",
     "output_type": "stream",
     "text": [
      "P1_X:  305.424\n",
      "P1_z:  80\n",
      "Punto P:  315.728\n"
     ]
    }
   ],
   "source": [
    "P1_x = np.sqrt( (Xp**2) + (Yp**2) )\n",
    "print(\"P1_X: \", P1_x.round(3))\n",
    "P1_z = Zp\n",
    "print(\"P1_z: \", P1_z)\n",
    "P = np.sqrt( (P1_x**2) + (P1_z**2) )\n",
    "print(\"Punto P: \", P.round(3))\n",
    "\n",
    "# Largo del Eslabon 2 y Eslabon 3\n",
    "a2 = 200\n",
    "a3 = 150"
   ]
  },
  {
   "attachments": {},
   "cell_type": "markdown",
   "metadata": {},
   "source": [
    "Despejando Theta 3 de nuestra ecuacion\n",
    "\n",
    "Por ley de coseno: $ c^2 = a^2 + b^2 - 2 a b\\cos( \\alpha ) $\n",
    "\n",
    "$$\n",
    "P = a_2^2 + a_3^2 - 2a_2 a_3\\cos( \\alpha ) \\\\\n",
    "\\alpha = \\pi + \\theta3 \\\\\n",
    "$$\n",
    "\n",
    "Nos queda:\n",
    "\n",
    "$$\n",
    "\n",
    "P_1x^2 + P_1z^2 = a_2^2 + a_3^2 - 2a_2 a_3\\cos( \\pi + \\theta3  ) \\\\\n",
    "\n",
    "\\cos(\\pi + \\theta3 ) = \\frac{ P_1x^2 + P_1z^2 - a_2^2 - a_3^2  }{ - 2a_2 a_3 }\n",
    "\n",
    "$$\n",
    "\n",
    "Sabemos que:\n",
    "\n",
    "$$\n",
    "\n",
    "\\cos(\\pi + \\theta3 ) = \\cos(\\pi )\\cos(\\theta3) + \\sin(\\pi)\\sin(\\theta3)  = -\\cos(\\theta3 )\n",
    "\n",
    "$$\n",
    "\n",
    "Despejando theta 3:\n",
    "\n",
    "Forma 1: \n",
    "$$\n",
    "\\theta3 = \\arccos( \\frac{ P_1x^2 + P_1z^2 - a_2^2 - a_3^2  }{ 2a_2 a_3 } )\n",
    "$$\n",
    "\n",
    "Forma 2: \n",
    "$$\n",
    "\\sin(\\theta3) + \\cos(\\theta3) = 1 \\implies \\sin(\\theta3) =  \\pm \\sqrt(1 - \\cos(\\theta3)^2) \\\\\n",
    "$$\n",
    "\n",
    "Cambiando de variable:  $\\cos(\\theta3) = D $ \n",
    "\n",
    "$$\n",
    "\\sin(\\theta3) =  \\pm \\sqrt(1 - D^2) \\\\\n",
    "\\tan(\\theta3) = \\frac{\\sin(\\theta3)}{\\cos(\\theta3)} \\implies \\frac{ \\pm \\sqrt(1 - D^2)}{D} \\\\\n",
    "\\theta3 = \\arctan(\\frac{ \\pm \\sqrt(1 - D^2)}{D})\n",
    "\n",
    "$$"
   ]
  },
  {
   "cell_type": "code",
   "execution_count": 964,
   "metadata": {},
   "outputs": [
    {
     "name": "stdout",
     "output_type": "stream",
     "text": [
      "Theta 3_1:  0.9024 rads  ->  51.703 °\n",
      "Theta 3_2:  -0.9024 rads  ->  -51.703 °\n"
     ]
    }
   ],
   "source": [
    "\n",
    "D = (P1_x**2 + P1_z**2 - a2**2 - a3**2)/(2*a2*a3)\n",
    "theta3_1 = np.arctan( np.sqrt(1-D**2)/D )\n",
    "theta3_2 = np.arctan( -np.sqrt(1-D**2)/D )\n",
    "#theta3_3 = np.arccos((P1_x**2 + P1_z**2 - a2**2 - a3**2)/(2*a2*a3) )\n",
    "\n",
    "print(\"Theta 3_1: \", theta3_1.round(4), \"rads  -> \", (theta3_1*180/np.pi).round(3), \"°\" )\n",
    "print(\"Theta 3_2: \", theta3_2.round(4), \"rads  -> \", (theta3_2*180/np.pi).round(3), \"°\" )\n",
    "#print(\"Theta 3_3: \", theta3_3.round(4), \"rads  -> \", (theta3_3*180/np.pi).round(3), \"°\" )\n"
   ]
  },
  {
   "attachments": {},
   "cell_type": "markdown",
   "metadata": {},
   "source": [
    "## **Hallamos Theta 2**\n",
    "\n",
    "Por ley de coseno: $ c^2 = a^2 + b^2 - 2 a b\\cos( \\alpha ) $\n",
    "\n",
    "$$\n",
    "\n",
    "c = \\sqrt(P_1x^2 + P_1z^2) \\\\\n",
    "a_3^2 = a_2^2 + P_1x^2 + P_1z^2 - 2a_2\\sqrt(P_1x^2 + P_1z^2)\\cos(\\alpha)\\\\\n",
    "\\cos(\\alpha) = \\frac{a_3^2 - a_2^2 - (P_1x^2 + P_1z^2)}{ - 2a_2\\sqrt(P_1x^2 + P_1z^2) } \\\\\n",
    "\n",
    "$$\n",
    "\n",
    "Sabemos que $ \\alpha = \\theta2 - \\psi \\implies \\theta2 = \\alpha + \\psi $\n",
    "\n",
    "Hallando el angulo $\\psi$\n",
    "\n",
    "$$\n",
    "\n",
    "\\tan(\\psi) = \\frac{P_1z }{P_1x} \\implies \\psi = \\arctan( \\frac{P_1z }{P_1x} )\n",
    "\n",
    "$$\n",
    "\n",
    "Reemplazando $\\psi$ en la ecuacion nos queda:\n",
    "\n",
    "$$\n",
    "\n",
    "\\cos(\\theta2 - \\arctan( \\frac{P_1z }{P_1x} ) ) = \\frac{a_3^2 - a_2^2 - (P_1x^2 + P_1z^2)}{ - 2a_2\\sqrt(P_1x^2 + P_1z^2) } \\\\\n",
    "\\cos(\\theta2 - \\arctan( \\frac{P_1z }{P_1x} ) ) = \\frac{P_1x^2 + P_1z^2 + a_2^2 - a_3^2}{ 2a_2\\sqrt(P_1x^2 + P_1z^2) }\n",
    "$$\n",
    "\n",
    "Despejando $\\theta2$:\n",
    "\n",
    "$$\n",
    "\n",
    "\\theta_{2,1} = \\arccos( \\frac{P_1x^2 + P_1z^2 + a_2^2 - a_3^2}{ 2a_2\\sqrt(P_1x^2 + P_1z^2) } ) + \\arctan( \\frac{P_1z}{P_1x} ) \\\\\n",
    "\n",
    "\\theta_{2,2} = -\\arccos( \\frac{P_1x^2 + P_1z^2 + a_2^2 - a_3^2}{ 2a_2\\sqrt(P_1x^2 + P_1z^2) } ) + \\arctan( \\frac{P_1z}{P_1x} )\n",
    "\n",
    "$$"
   ]
  },
  {
   "cell_type": "code",
   "execution_count": 965,
   "metadata": {},
   "outputs": [
    {
     "name": "stdout",
     "output_type": "stream",
     "text": [
      "Theta 2_1:  0.638 rads\n",
      "Psi:  0.256 rads\n"
     ]
    }
   ],
   "source": [
    "theta2_1 = np.arccos( (P1_x**2 + P1_z**2 + a2**2 - a3**2)/(2*a2*np.sqrt( (P1_x**2) + (P1_z**2) ) ) ) + np.arctan(P1_z/P1_x)\n",
    "theta2_2 = -np.arccos( (P1_x**2 + P1_z**2 + a2**2 - a3**2)/(2*a2*np.sqrt( (P1_x**2) + (P1_z**2) ) ) ) + np.arctan(P1_z/P1_x)\n",
    "\n",
    "print(\"Theta 2_1: \", theta2_1.round(3), \"rads\")\n",
    "psi = np.arctan(P1_z/P1_x)\n",
    "print(\"Psi: \", psi.round(3), \"rads\")\n",
    "#print(\"Theta 2_2: \", theta2_2.round(3), \"rads\")"
   ]
  },
  {
   "attachments": {},
   "cell_type": "markdown",
   "metadata": {},
   "source": [
    "Conversion Radianes a Grados"
   ]
  },
  {
   "cell_type": "code",
   "execution_count": 966,
   "metadata": {},
   "outputs": [
    {
     "name": "stdout",
     "output_type": "stream",
     "text": [
      "tetha 1:  17.417 °\n",
      "tetha 2:  36.57 °\n",
      "tetha 3:  -51.703 °\n",
      "psi :  14.678 °\n"
     ]
    }
   ],
   "source": [
    "tetha1Deg = (theta1*180)/np.pi\n",
    "\n",
    "tetha2Deg = (theta2_1*180)/np.pi\n",
    "\n",
    "tetha3Deg = (theta3_2*180)/np.pi\n",
    "\n",
    "psiDeg = (psi*180)/np.pi\n",
    "\n",
    "\n",
    "print(\"tetha 1: \", tetha1Deg.round(3), \"°\")\n",
    "print(\"tetha 2: \", tetha2Deg.round(3), \"°\")\n",
    "print(\"tetha 3: \", tetha3Deg.round(3), \"°\")\n",
    "print(\"psi : \", psiDeg.round(3), \"°\")\n"
   ]
  },
  {
   "attachments": {},
   "cell_type": "markdown",
   "metadata": {},
   "source": [
    "Una vez calculamos los ángulos theta 1, theta 2 y theta 3; procedemos al método de Cinemática Directa"
   ]
  },
  {
   "attachments": {},
   "cell_type": "markdown",
   "metadata": {},
   "source": [
    "# Cinemática Directa (D.K.)"
   ]
  },
  {
   "cell_type": "code",
   "execution_count": 967,
   "metadata": {},
   "outputs": [],
   "source": [
    "a1 = 50\n",
    "a2 = 200\n",
    "a3 = 150\n",
    "\n",
    "b1 = 0\n",
    "b2 = 0\n",
    "b3 = 0\n",
    "\n",
    "alpha1 = 0\n",
    "alpha2 = 0\n",
    "alpha3 = 0"
   ]
  },
  {
   "attachments": {},
   "cell_type": "markdown",
   "metadata": {},
   "source": [
    "Conversion Grados a Radianes"
   ]
  },
  {
   "cell_type": "code",
   "execution_count": 968,
   "metadata": {},
   "outputs": [
    {
     "name": "stdout",
     "output_type": "stream",
     "text": [
      "tetha 1: 0.304 rads\n",
      "alpha 1: 0.0 rads\n",
      "\n",
      "tetha 2: 0.638 rads\n",
      "alpha 2: 0.0 rads\n",
      "\n",
      "tetha 3: -0.9024 rads\n",
      "alpha 3: 0.0 rads\n"
     ]
    }
   ],
   "source": [
    "tetha1R = (tetha1Deg*np.pi)/180\n",
    "alpha1R = (alpha1*np.pi)/180\n",
    "\n",
    "tetha2R = (tetha2Deg*np.pi)/180\n",
    "alpha2R = (alpha2*np.pi)/180\n",
    "\n",
    "tetha3R = (tetha3Deg*np.pi)/180\n",
    "alpha3R = (alpha3*np.pi)/180\n",
    "\n",
    "print(\"tetha 1: {} rads\\nalpha 1: {} rads\".format(tetha1R.round(3), alpha1R) )\n",
    "print(\"\\ntetha 2: {} rads\\nalpha 2: {} rads\".format(tetha2R.round(3), alpha2R) )\n",
    "print(\"\\ntetha 3: {} rads\\nalpha 3: {} rads\".format(tetha3R.round(4), alpha3R) )\n"
   ]
  },
  {
   "attachments": {},
   "cell_type": "markdown",
   "metadata": {},
   "source": [
    "Matrices de Transformacion Homegenea"
   ]
  },
  {
   "cell_type": "code",
   "execution_count": 969,
   "metadata": {},
   "outputs": [],
   "source": [
    "# Parametros b ( desplazamiento en el eje Z )\n",
    "\n",
    "Tb1 = [[1, 0, 0, 0],\n",
    "      [0, 1, 0, 0],\n",
    "      [0, 0, 1, b1],\n",
    "      [0, 0, 0, 1]]\n",
    "\n",
    "Tb2 = [[1, 0, 0, 0],\n",
    "      [0, 1, 0, 0],\n",
    "      [0, 0, 1, b2],\n",
    "      [0, 0, 0, 1]]\n",
    "\n",
    "Tb3 = [[1, 0, 0, 0],\n",
    "      [0, 1, 0, 0],\n",
    "      [0, 0, 1, b3],\n",
    "      [0, 0, 0, 1]]"
   ]
  },
  {
   "cell_type": "code",
   "execution_count": 970,
   "metadata": {},
   "outputs": [
    {
     "name": "stdout",
     "output_type": "stream",
     "text": [
      "Ttetha1:\n",
      " [[ 0.954 -0.299  0.     0.   ]\n",
      " [ 0.299  0.954  0.     0.   ]\n",
      " [ 0.     0.     1.     0.   ]\n",
      " [ 0.     0.     0.     1.   ]]\n",
      "\n",
      "Ttetha2:\n",
      " [[ 0.803 -0.596  0.     0.   ]\n",
      " [ 0.596  0.803  0.     0.   ]\n",
      " [ 0.     0.     1.     0.   ]\n",
      " [ 0.     0.     0.     1.   ]]\n",
      "\n",
      "Ttetha3:\n",
      " [[ 0.62   0.785  0.     0.   ]\n",
      " [-0.785  0.62   0.     0.   ]\n",
      " [ 0.     0.     1.     0.   ]\n",
      " [ 0.     0.     0.     1.   ]]\n"
     ]
    }
   ],
   "source": [
    "# Parametros Tetha ( Rotacion en el eje Z )\n",
    "\n",
    "Ttetha1 = [[np.cos(tetha1R), -np.sin(tetha1R), 0, 0],\n",
    "          [np.sin(tetha1R), np.cos(tetha1R), 0, 0],\n",
    "          [0, 0, 1, 0],\n",
    "          [0, 0, 0, 1]]\n",
    "\n",
    "Ttetha2 = [[np.cos(tetha2R), -np.sin(tetha2R), 0, 0],\n",
    "          [np.sin(tetha2R), np.cos(tetha2R), 0, 0],\n",
    "          [0, 0, 1, 0],\n",
    "          [0, 0, 0, 1]]\n",
    "Ttetha3 = [[np.cos(tetha3R), -np.sin(tetha3R), 0, 0],\n",
    "          [np.sin(tetha3R), np.cos(tetha3R), 0, 0],\n",
    "          [0, 0, 1, 0],\n",
    "          [0, 0, 0, 1]]\n",
    "\n",
    "print(\"Ttetha1:\\n\", np.matrix(Ttetha1).round(3) )\n",
    "print(\"\\nTtetha2:\\n\", np.matrix(Ttetha2).round(3) )\n",
    "print(\"\\nTtetha3:\\n\", np.matrix(Ttetha3).round(3) )"
   ]
  },
  {
   "cell_type": "code",
   "execution_count": 971,
   "metadata": {},
   "outputs": [],
   "source": [
    "# Parametros a ( desplazamiento del eslabon en el eje X  )\n",
    "\n",
    "Ta1 = [[1, 0, 0, a1],\n",
    "      [0, 1, 0, 0],\n",
    "      [0, 0, 1, 0],\n",
    "      [0, 0, 0, 1]]\n",
    "\n",
    "Ta2 = [[1, 0, 0, a2],\n",
    "      [0, 1, 0, 0],\n",
    "      [0, 0, 1, 0],\n",
    "      [0, 0, 0, 1]]\n",
    "\n",
    "Ta3 = [[1, 0, 0, a3],\n",
    "      [0, 1, 0, 0],\n",
    "      [0, 0, 1, 0],\n",
    "      [0, 0, 0, 1]]"
   ]
  },
  {
   "cell_type": "code",
   "execution_count": 972,
   "metadata": {},
   "outputs": [
    {
     "name": "stdout",
     "output_type": "stream",
     "text": [
      "Talpha1:\n",
      " [[ 1.  0.  0.  0.]\n",
      " [ 0.  1. -0.  0.]\n",
      " [ 0.  0.  1.  0.]\n",
      " [ 0.  0.  0.  1.]]\n",
      "\n",
      "Talpha2:\n",
      " [[ 1.  0.  0.  0.]\n",
      " [ 0.  1. -0.  0.]\n",
      " [ 0.  0.  1.  0.]\n",
      " [ 0.  0.  0.  1.]]\n",
      "\n",
      "Talpha3:\n",
      " [[ 1.  0.  0.  0.]\n",
      " [ 0.  1. -0.  0.]\n",
      " [ 0.  0.  1.  0.]\n",
      " [ 0.  0.  0.  1.]]\n"
     ]
    }
   ],
   "source": [
    "Talpha1 = [[1, 0, 0, 0],\n",
    "         [0, np.cos(alpha1R), -np.sin(alpha1R), 0],\n",
    "          [0, np.sin(alpha1R), np.cos(alpha1R), 0],\n",
    "          [0, 0, 0, 1]]\n",
    "\n",
    "Talpha2 = [[1, 0, 0, 0],\n",
    "         [0, np.cos(alpha2R), -np.sin(alpha2R), 0],\n",
    "          [0, np.sin(alpha2R), np.cos(alpha2R), 0],\n",
    "          [0, 0, 0, 1]]\n",
    "\n",
    "Talpha3 = [[1, 0, 0, 0],\n",
    "         [0, np.cos(alpha3R), -np.sin(alpha3R), 0],\n",
    "          [0, np.sin(alpha3R), np.cos(alpha3R), 0],\n",
    "          [0, 0, 0, 1]]\n",
    "\n",
    "print(\"Talpha1:\\n\", np.matrix(Talpha1) )\n",
    "print(\"\\nTalpha2:\\n\", np.matrix(Talpha2) )\n",
    "print(\"\\nTalpha3:\\n\", np.matrix(Talpha3).round(3) )"
   ]
  },
  {
   "cell_type": "code",
   "execution_count": 973,
   "metadata": {},
   "outputs": [
    {
     "name": "stdout",
     "output_type": "stream",
     "text": [
      "\n",
      "Matriz de Transformacion T1 -> 0 (TL1): (a1 = 50 mm, b1 = 0, tetha1 = 17.417°, alpha1 = 0.0°)\n",
      "\n",
      " [[ 0.954 -0.299  0.    47.708]\n",
      " [ 0.299  0.954  0.    14.966]\n",
      " [ 0.     0.     1.     0.   ]\n",
      " [ 0.     0.     0.     1.   ]]\n"
     ]
    }
   ],
   "source": [
    "#T1_1 = np.dot(Tb1, Ttetha1)\n",
    "#T1_2 = np.dot(T1_1, Ta1)\n",
    "#T1_a_0 = np.dot(T1_2, Talpha1)\n",
    "\n",
    "T1_a_0 = np.dot(np.dot(np.dot(Tb1, Ttetha1), Ta1), Talpha1)\n",
    "\n",
    "print(\"\\nMatriz de Transformacion T1 -> 0 (TL1): (a1 = {} mm, b1 = {}, tetha1 = {}°, alpha1 = {}°)\\n\\n\" .format(a1, b1, tetha1Deg.round(3), alpha1R), np.matrix(T1_a_0).round(3) )"
   ]
  },
  {
   "cell_type": "code",
   "execution_count": 974,
   "metadata": {},
   "outputs": [
    {
     "name": "stdout",
     "output_type": "stream",
     "text": [
      "\n",
      "Matriz de Transformacion T2 -> 1 (TL2): (a2 = 200 mm, b2 = 0, tetha2 = 36.57°, alpha2 = 0.0°)\n",
      "\n",
      " [[  0.803  -0.596   0.    160.626]\n",
      " [  0.596   0.803   0.    119.16 ]\n",
      " [  0.      0.      1.      0.   ]\n",
      " [  0.      0.      0.      1.   ]]\n"
     ]
    }
   ],
   "source": [
    "#T2_1 = np.dot(Tb2, Ttetha2)\n",
    "#T2_2 = np.dot(T2_1, Ta2)\n",
    "\n",
    "T2_a_1 = np.dot(np.dot(np.dot(Tb2, Ttetha2), Ta2), Talpha2)\n",
    "\n",
    "print(\"\\nMatriz de Transformacion T2 -> 1 (TL2): (a2 = {} mm, b2 = {}, tetha2 = {}°, alpha2 = {}°)\\n\\n\".format(a2, b2, tetha2Deg.round(3), alpha2R), np.matrix(T2_a_1).round(3) )"
   ]
  },
  {
   "cell_type": "code",
   "execution_count": 975,
   "metadata": {},
   "outputs": [
    {
     "name": "stdout",
     "output_type": "stream",
     "text": [
      "\n",
      "Matriz de Transformacion T3 -> 2 (TL3): (a3 = 150 mm, b3 = 0, tetha3 = -51.703°, alpha3 = 0.0°)\n",
      "\n",
      " [[   0.62     0.785    0.      92.96 ]\n",
      " [  -0.785    0.62     0.    -117.722]\n",
      " [   0.       0.       1.       0.   ]\n",
      " [   0.       0.       0.       1.   ]]\n"
     ]
    }
   ],
   "source": [
    "#T3_1 = np.dot(Tb3, Ttetha3)\n",
    "#T3_2 = np.dot(T3_1, Ta3)\n",
    "\n",
    "T3_a_2 = np.dot(np.dot(np.dot(Tb3, Ttetha3), Ta3), Talpha3)\n",
    "\n",
    "print(\"\\nMatriz de Transformacion T3 -> 2 (TL3): (a3 = {} mm, b3 = {}, tetha3 = {}°, alpha3 = {}°)\\n\\n\".format(a3, b3, tetha3Deg.round(3), alpha3R), np.matrix(T3_a_2).round(3)  )"
   ]
  },
  {
   "cell_type": "code",
   "execution_count": 976,
   "metadata": {},
   "outputs": [
    {
     "name": "stdout",
     "output_type": "stream",
     "text": [
      "\n",
      "Matriz de Transformacion TF (0 -> 3):\n",
      "\n",
      " [[ 9.99000e-01 -4.00000e-02  0.00000e+00  3.15183e+02]\n",
      " [ 4.00000e-02  9.99000e-01  0.00000e+00  1.82719e+02]\n",
      " [ 0.00000e+00  0.00000e+00  1.00000e+00  0.00000e+00]\n",
      " [ 0.00000e+00  0.00000e+00  0.00000e+00  1.00000e+00]]\n"
     ]
    }
   ],
   "source": [
    "T10_21 = np.dot(T1_a_0, T2_a_1)\n",
    "Tfinal = np.dot(np.dot(T1_a_0, T2_a_1), T3_a_2) \n",
    "\n",
    "print(\"\\nMatriz de Transformacion TF (0 -> 3):\\n\\n\", np.matrix(Tfinal).round(3) )"
   ]
  },
  {
   "attachments": {},
   "cell_type": "markdown",
   "metadata": {},
   "source": [
    "Matriz DH"
   ]
  },
  {
   "cell_type": "code",
   "execution_count": 977,
   "metadata": {},
   "outputs": [
    {
     "name": "stdout",
     "output_type": "stream",
     "text": [
      "\n",
      "Matriz de Transformacion Final (P3):\n",
      " [[ 9.99000e-01 -4.00000e-02  0.00000e+00  3.15183e+02]\n",
      " [ 4.00000e-02  9.99000e-01  0.00000e+00  1.82719e+02]\n",
      " [ 0.00000e+00  0.00000e+00  1.00000e+00  0.00000e+00]\n",
      " [ 0.00000e+00  0.00000e+00  0.00000e+00  1.00000e+00]]\n",
      "\n",
      "Matriz de Transformacion Parcial (P2):\n",
      " [[  0.588  -0.809   0.    165.302]\n",
      " [  0.809   0.588   0.    176.743]\n",
      " [  0.      0.      1.      0.   ]\n",
      " [  0.      0.      0.      1.   ]]\n",
      "\n",
      "Matriz de Transformacion Parcial (P2):\n",
      " [[  0.588  -0.809   0.    165.302]\n",
      " [  0.809   0.588   0.    176.743]\n",
      " [  0.      0.      1.      0.   ]\n",
      " [  0.      0.      0.      1.   ]]\n",
      "\n",
      "Matriz de Transformacion Parcial 1 (P1):\n",
      " [[ 0.954 -0.299  0.    47.708]\n",
      " [ 0.299  0.954  0.    14.966]\n",
      " [ 0.     0.     1.     0.   ]\n",
      " [ 0.     0.     0.     1.   ]]\n"
     ]
    }
   ],
   "source": [
    "print(\"\\nMatriz de Transformacion Final (P3):\\n\", Tfinal.round(3))\n",
    "\n",
    "P2 = np.dot(T1_a_0, T2_a_1)\n",
    "print(\"\\nMatriz de Transformacion Parcial (P2):\\n\", P2.round(3))\n",
    "\n",
    "P2_1 = np.dot(Tfinal,  np.linalg.inv(T3_a_2) )\n",
    "print(\"\\nMatriz de Transformacion Parcial (P2):\\n\", P2_1.round(3))\n",
    "\n",
    "P1 = np.dot( P2, np.linalg.inv(T2_a_1) )\n",
    "print(\"\\nMatriz de Transformacion Parcial 1 (P1):\\n\", P1.round(3))\n"
   ]
  },
  {
   "cell_type": "code",
   "execution_count": 978,
   "metadata": {},
   "outputs": [
    {
     "name": "stdout",
     "output_type": "stream",
     "text": [
      "======== P3 ========\n",
      "xJ3: 315.183\n",
      "yJ3: 182.719\n",
      "zJ3: 0.0\n",
      "======== P2 ========\n",
      "\n",
      "xJ2: 165.302\n",
      "yJ2: 176.743\n",
      "zJ2: 0.0\n",
      "======== P1 ========\n",
      "\n",
      "xJ1: 47.708\n",
      "yJ1: 14.966\n",
      "zJ1: 0.0\n"
     ]
    }
   ],
   "source": [
    "print(\"======== P3 ========\")\n",
    "xJ3 = Tfinal[0,3]\n",
    "yJ3 = Tfinal[1,3]\n",
    "zJ3 = Tfinal[2,3]\n",
    "print(\"xJ3:\", xJ3.round(3))\n",
    "print(\"yJ3:\", yJ3.round(3))\n",
    "print(\"zJ3:\", zJ3.round(3))\n",
    "\n",
    "print(\"======== P2 ========\")\n",
    "xJ2 = P2[0,3]\n",
    "yJ2 = P2[1,3]\n",
    "zJ2 = P2[2,3]\n",
    "print(\"\\nxJ2:\", xJ2.round(3))\n",
    "print(\"yJ2:\", yJ2.round(3))\n",
    "print(\"zJ2:\", zJ2.round(3))\n",
    "\n",
    "print(\"======== P1 ========\")\n",
    "xJ1 = P1[0,3]\n",
    "yJ1 = P1[1,3]\n",
    "zJ1 = P1[2,3]\n",
    "print(\"\\nxJ1:\", xJ1.round(3))\n",
    "print(\"yJ1:\", yJ1.round(3))\n",
    "print(\"zJ1:\", zJ1.round(3))"
   ]
  },
  {
   "cell_type": "code",
   "execution_count": 979,
   "metadata": {},
   "outputs": [
    {
     "data": {
      "image/png": "[encoded data removed]",
      "text/plain": [
       "<Figure size 640x480 with 1 Axes>"
      ]
     },
     "metadata": {},
     "output_type": "display_data"
    }
   ],
   "source": [
    "fix, axes = plt.subplots()\n",
    "plt.plot(xJ1, yJ1, 'o')\n",
    "plt.plot(xJ2, yJ2, 'o')\n",
    "plt.plot(xJ3, yJ3, 'o')\n",
    "plt.plot([xJ1, xJ2, xJ3], [yJ1, yJ2, yJ3], 'm')\n",
    "plt.title(\"Matrices DH y Transformacion Homegenea Brazo\")\n",
    "plt.xlabel(\"Posicion X (mm)\")\n",
    "plt.ylabel(\"Posicion Y (mm)\")\n",
    "plt.grid()\n",
    "plt.show()"
   ]
  },
  {
   "cell_type": "code",
   "execution_count": null,
   "metadata": {},
   "outputs": [],
   "source": []
  },
  {
   "cell_type": "code",
   "execution_count": 980,
   "metadata": {},
   "outputs": [
    {
     "data": {
      "image/png": "[encoded data removed]",
      "text/plain": [
       "<Figure size 640x480 with 1 Axes>"
      ]
     },
     "metadata": {},
     "output_type": "display_data"
    }
   ],
   "source": [
    "\n",
    "figura = plt.figure()\n",
    "grafica = figura.add_subplot(111, projection='3d')\n",
    "grafica.scatter(xJ1, 0, Zp, c='blue', marker='o', label = 'Origen')\n",
    "grafica.scatter(xJ1, yJ1, Zp+a1, c='orange', marker='o', label = 'P1')\n",
    "grafica.scatter(xJ2, yJ2, Zp+a2, c='green', marker='o', label = 'P2')\n",
    "grafica.scatter(xJ3, yJ3, Zp+a3, c='red', marker='o', label = 'P3')\n",
    "\n",
    "\n",
    "X = np.array([xJ1, xJ1, xJ2, xJ3])\n",
    "Y = np.array([0, yJ1, yJ2, yJ3])\n",
    "Z = np.array([Zp, Zp+a1, Zp+a2, Zp+a3])\n",
    "\n",
    "\n",
    "#grafica.plot(X,Z)\n",
    "grafica.plot(X, Y, Z)\n",
    "grafica.set_xlabel('Eje X')\n",
    "grafica.set_ylabel('Eje Y')\n",
    "grafica.set_zlabel('Eje Z')\n",
    "grafica.legend()\n",
    "#grafica.view_init(50, 250)\n",
    "#grafica.view_init(0, -90) # PLANO XZ\n",
    "grafica.view_init(75, 270) #2D VIEW PLANO XY\n",
    "plt.show()"
   ]
  }
 ],
 "metadata": {
  "kernelspec": {
   "display_name": "Python 3",
   "language": "python",
   "name": "python3"
  },
  "language_info": {
   "codemirror_mode": {
    "name": "ipython",
    "version": 3
   },
   "file_extension": ".py",
   "mimetype": "text/x-python",
   "name": "python",
   "nbconvert_exporter": "python",
   "pygments_lexer": "ipython3",
   "version": "3.11.1"
  },
  "orig_nbformat": 4,
  "vscode": {
   "interpreter": {
    "hash": "aee8b7b246df8f9039afb4144a1f6fd8d2ca17a180786b69acc140d282b71a49"
   }
  }
 },
 "nbformat": 4,
 "nbformat_minor": 2
}
