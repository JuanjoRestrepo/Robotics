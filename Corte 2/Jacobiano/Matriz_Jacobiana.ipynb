{
  "cells": [
    {
      "cell_type": "markdown",
      "source": [
        "# **CALCULO DE LA MATRIZ JACOBIANA EN PYTHON**\n",
        "\n",
        "## JUAN JOSE RESTREPO ROSERO\n",
        "\n",
        "### ROBOTICA 2023-2"
      ],
      "metadata": {
        "id": "7s3v9SrP4zyt"
      }
    },
    {
      "cell_type": "code",
      "source": [
        "import numpy as np\n",
        "import math\n",
        "import sympy as sym\n",
        "import matplotlib.pyplot as plt\n",
        "from sympy.core.evalf import evalf\n",
        "#from mpl_toolkits.mplot3d import AxeStheta3D"
      ],
      "metadata": {
        "id": "ZIWJ7WW440Z0"
      },
      "execution_count": null,
      "outputs": []
    },
    {
      "cell_type": "markdown",
      "metadata": {
        "id": "IXc815dXhNIk"
      },
      "source": [
        "## Definimos las variables\n"
      ]
    },
    {
      "cell_type": "code",
      "execution_count": null,
      "metadata": {
        "colab": {
          "base_uri": "https://localhost:8080/"
        },
        "id": "fgmEahNDhNIl",
        "outputId": "105d7624-db2f-4fa6-83e6-3ef8203b9ec9"
      },
      "outputs": [
        {
          "output_type": "stream",
          "name": "stdout",
          "text": [
            "b1 b2 b3\n",
            "theta1 theta2 theta3\n",
            "a1 a2 a3\n",
            "alpha1 alpha2 alpha3\n"
          ]
        }
      ],
      "source": [
        "\n",
        "b1, b2, b3, theta1, theta2, theta3 = sym.symbols('b1 b2 b3 theta1 theta2 theta3 ')\n",
        "a1, a2, a3, alpha1, alpha2, alpha3 = sym.symbols('a1 a2 a3 alpha1 alpha2 alpha3')\n",
        "\n",
        "print(b1, b2, b3)\n",
        "print(theta1, theta2, theta3)\n",
        "\n",
        "print(a1, a2, a3)\n",
        "print(alpha1, alpha2, alpha3)\n"
      ]
    },
    {
      "cell_type": "markdown",
      "source": [
        "### **Definimos las matrices $ Tb_n, Ttetha_n, Ta_n$ y $Talpha_n $**"
      ],
      "metadata": {
        "id": "jWOt--oNkms-"
      }
    },
    {
      "cell_type": "code",
      "execution_count": null,
      "metadata": {
        "id": "PMfkiJm4hNIm",
        "colab": {
          "base_uri": "https://localhost:8080/"
        },
        "outputId": "0be13f51-ddd2-4e7f-e997-4a188cf29caa"
      },
      "outputs": [
        {
          "output_type": "stream",
          "name": "stdout",
          "text": [
            "THETAS\n",
            "cos(theta1) cos(theta2) cos(theta3)\n",
            "sin(theta1) sin(theta2) sin(theta3)\n",
            "\n",
            "ALPHAS\n",
            "cos(alpha1) cos(alpha2) cos(alpha3)\n",
            "sin(alpha1) sin(alpha2) sin(alpha3)\n"
          ]
        }
      ],
      "source": [
        "\n",
        "Ctheta1 = sym.cos(theta1)\n",
        "Ctheta2 = sym.cos(theta2)\n",
        "Ctheta3 = sym.cos(theta3)\n",
        "\n",
        "Stheta1 = sym.sin(theta1)\n",
        "Stheta2 = sym.sin(theta2)\n",
        "Stheta3 = sym.sin(theta3)\n",
        "\n",
        "Calpha1 = sym.cos(alpha1)\n",
        "Calpha2 = sym.cos(alpha2)\n",
        "Calpha3 = sym.cos(alpha3)\n",
        "\n",
        "Salpha1 = sym.sin(alpha1)\n",
        "Salpha2 = sym.sin(alpha2)\n",
        "Salpha3 = sym.sin(alpha3)\n",
        "\n",
        "\n",
        "print(\"THETAS\")\n",
        "print(Ctheta1, Ctheta2, Ctheta3)\n",
        "print(Stheta1, Stheta2, Stheta3)\n",
        "print(\"\\nALPHAS\")\n",
        "print(Calpha1, Calpha2, Calpha3)\n",
        "print(Salpha1, Salpha2, Salpha3)\n"
      ]
    },
    {
      "cell_type": "code",
      "execution_count": null,
      "metadata": {
        "id": "7E6v0N82hNIm",
        "colab": {
          "base_uri": "https://localhost:8080/"
        },
        "outputId": "4b1141a5-790c-4132-b846-d507219eb557"
      },
      "outputs": [
        {
          "output_type": "stream",
          "name": "stdout",
          "text": [
            "\n",
            "Tb1:\n",
            " [[1 0 0 0]\n",
            " [0 1 0 0]\n",
            " [0 0 1 b1]\n",
            " [0 0 0 1]]\n",
            "\n",
            "Tb2:\n",
            " [[1 0 0 0]\n",
            " [0 1 0 0]\n",
            " [0 0 1 b2]\n",
            " [0 0 0 1]]\n",
            "\n",
            "Tb3:\n",
            " [[1 0 0 0]\n",
            " [0 1 0 0]\n",
            " [0 0 1 b3]\n",
            " [0 0 0 1]]\n"
          ]
        }
      ],
      "source": [
        "\n",
        "Tb1 = sym.Matrix([ [1, 0, 0, 0],\n",
        "                  [0, 1, 0, 0],\n",
        "                  [0, 0, 1, b1],\n",
        "                  [0, 0, 0, 1] ])\n",
        "\n",
        "Tb2 = sym.Matrix([ [1, 0, 0, 0],\n",
        "                  [0, 1, 0, 0],\n",
        "                  [0, 0, 1, b2],\n",
        "                  [0, 0, 0, 1] ])\n",
        "\n",
        "Tb3 = sym.Matrix([ [1, 0, 0, 0],\n",
        "                  [0, 1, 0, 0],\n",
        "                  [0, 0, 1, b3],\n",
        "                  [0, 0, 0, 1] ])\n",
        "\n",
        "print(\"\\nTb1:\\n\", np.matrix(Tb1) )\n",
        "print(\"\\nTb2:\\n\", np.matrix(Tb2) )\n",
        "print(\"\\nTb3:\\n\", np.matrix(Tb3) )"
      ]
    },
    {
      "cell_type": "code",
      "execution_count": null,
      "metadata": {
        "colab": {
          "base_uri": "https://localhost:8080/"
        },
        "id": "qR0_YvDHhNIm",
        "outputId": "d036cb69-9fdd-44fa-c9df-a49bcd5b69a3"
      },
      "outputs": [
        {
          "output_type": "stream",
          "name": "stdout",
          "text": [
            "\n",
            "Ttetha1:\n",
            " [[cos(theta1) -sin(theta1) 0 0]\n",
            " [sin(theta1) cos(theta1) 0 0]\n",
            " [0 0 1 0]\n",
            " [0 0 0 1]]\n",
            "\n",
            "Ttetha2:\n",
            " [[cos(theta2) -sin(theta2) 0 0]\n",
            " [sin(theta2) cos(theta2) 0 0]\n",
            " [0 0 1 0]\n",
            " [0 0 0 1]]\n",
            "\n",
            "Ttetha3:\n",
            " [[cos(theta3) -sin(theta3) 0 0]\n",
            " [sin(theta3) cos(theta3) 0 0]\n",
            " [0 0 1 0]\n",
            " [0 0 0 1]]\n"
          ]
        }
      ],
      "source": [
        "Ttetha1 = sym.Matrix( [[Ctheta1, -Stheta1, 0, 0],\n",
        "                       [Stheta1, Ctheta1, 0, 0],\n",
        "                       [0, 0, 1, 0],\n",
        "                       [0, 0, 0, 1]] )\n",
        "\n",
        "Ttetha2 = sym.Matrix( [[Ctheta2, -Stheta2, 0, 0],\n",
        "                       [Stheta2, Ctheta2, 0, 0],\n",
        "                       [0, 0, 1, 0],\n",
        "                       [0, 0, 0, 1]] )\n",
        "\n",
        "Ttetha3 = sym.Matrix( [[Ctheta3, -Stheta3, 0, 0],\n",
        "                       [Stheta3, Ctheta3, 0, 0],\n",
        "                       [0, 0, 1, 0],\n",
        "                       [0, 0, 0, 1]] )\n",
        "\n",
        "print(\"\\nTtetha1:\\n\", np.matrix(Ttetha1) )\n",
        "print(\"\\nTtetha2:\\n\", np.matrix(Ttetha2) )\n",
        "print(\"\\nTtetha3:\\n\", np.matrix(Ttetha3) )"
      ]
    },
    {
      "cell_type": "code",
      "execution_count": null,
      "metadata": {
        "id": "v_rZ8sl9hNIn",
        "outputId": "3196a885-ec7e-45f5-8f3f-90809ec5c26c",
        "colab": {
          "base_uri": "https://localhost:8080/"
        }
      },
      "outputs": [
        {
          "output_type": "stream",
          "name": "stdout",
          "text": [
            "\n",
            "Ta1:\n",
            " [[1 0 0 a1]\n",
            " [0 1 0 0]\n",
            " [0 0 1 0]\n",
            " [0 0 0 1]]\n",
            "\n",
            "Ta2:\n",
            " [[1 0 0 a2]\n",
            " [0 1 0 0]\n",
            " [0 0 1 0]\n",
            " [0 0 0 1]]\n",
            "\n",
            "Ta3:\n",
            " [[1 0 0 a3]\n",
            " [0 1 0 0]\n",
            " [0 0 1 0]\n",
            " [0 0 0 1]]\n"
          ]
        }
      ],
      "source": [
        "Ta1 = sym.Matrix( [[1, 0, 0, a1],\n",
        "                   [0, 1, 0, 0],\n",
        "                   [0, 0, 1, 0],\n",
        "                   [0, 0, 0, 1]] )\n",
        "\n",
        "Ta2 = sym.Matrix( [[1, 0, 0, a2],\n",
        "                   [0, 1, 0, 0],\n",
        "                   [0, 0, 1, 0],\n",
        "                   [0, 0, 0, 1]] )\n",
        "\n",
        "Ta3 = sym.Matrix( [[1, 0, 0, a3],\n",
        "                   [0, 1, 0, 0],\n",
        "                   [0, 0, 1, 0],\n",
        "                   [0, 0, 0, 1]] )\n",
        "\n",
        "print(\"\\nTa1:\\n\", np.matrix(Ta1) )\n",
        "print(\"\\nTa2:\\n\", np.matrix(Ta2) )\n",
        "print(\"\\nTa3:\\n\", np.matrix(Ta3) )"
      ]
    },
    {
      "cell_type": "code",
      "execution_count": null,
      "metadata": {
        "id": "5sFgbIifhNIn",
        "outputId": "cc70c0f3-0248-4c9e-e4ba-d721bb179e03",
        "colab": {
          "base_uri": "https://localhost:8080/"
        }
      },
      "outputs": [
        {
          "output_type": "stream",
          "name": "stdout",
          "text": [
            "\n",
            "Talpha1:\n",
            " [[1 0 0 0]\n",
            " [0 cos(alpha1) -sin(alpha1) 0]\n",
            " [0 sin(alpha1) cos(alpha1) 0]\n",
            " [0 0 0 1]]\n",
            "\n",
            "Talpha2:\n",
            " [[1 0 0 0]\n",
            " [0 cos(alpha2) -sin(alpha2) 0]\n",
            " [0 sin(alpha2) cos(alpha2) 0]\n",
            " [0 0 0 1]]\n",
            "\n",
            "Talpha3:\n",
            " [[1 0 0 0]\n",
            " [0 cos(alpha3) -sin(alpha3) 0]\n",
            " [0 sin(alpha3) cos(alpha3) 0]\n",
            " [0 0 0 1]]\n"
          ]
        }
      ],
      "source": [
        "Talpha1 = sym.Matrix( [[1, 0, 0, 0],\n",
        "                       [0, Calpha1, -Salpha1, 0],\n",
        "                       [0, Salpha1, Calpha1, 0],\n",
        "                       [0, 0, 0, 1]] )\n",
        "\n",
        "Talpha2 = sym.Matrix( [[1, 0, 0, 0],\n",
        "                       [0, Calpha2, -Salpha2, 0],\n",
        "                       [0, Salpha2, Calpha2, 0],\n",
        "                       [0, 0, 0, 1]] )\n",
        "\n",
        "Talpha3 = sym.Matrix([[1, 0, 0, 0],\n",
        "                      [0, Calpha3, -Salpha3, 0],\n",
        "                      [0, Salpha3, Calpha3, 0],\n",
        "                      [0, 0, 0, 1]] )\n",
        "\n",
        "print(\"\\nTalpha1:\\n\", np.matrix(Talpha1) )\n",
        "print(\"\\nTalpha2:\\n\", np.matrix(Talpha2) )\n",
        "print(\"\\nTalpha3:\\n\", np.matrix(Talpha3) )"
      ]
    },
    {
      "cell_type": "markdown",
      "source": [
        "### **Matriz T1**"
      ],
      "metadata": {
        "id": "JoTfePL5lJ5e"
      }
    },
    {
      "cell_type": "code",
      "source": [
        "T1 = Tb1 * Ttetha1 * Ta1 * Talpha1 \n",
        "\n",
        "print(\"\\nMatriz T1\\n\\n\", np.matrix(T1) )"
      ],
      "metadata": {
        "colab": {
          "base_uri": "https://localhost:8080/"
        },
        "id": "sWShrmJhlPic",
        "outputId": "30f32516-fc5a-4e06-a51c-8b3aebb86d0a"
      },
      "execution_count": null,
      "outputs": [
        {
          "output_type": "stream",
          "name": "stdout",
          "text": [
            "\n",
            "Matriz T1\n",
            "\n",
            " [[cos(theta1) -sin(theta1)*cos(alpha1) sin(alpha1)*sin(theta1)\n",
            "  a1*cos(theta1)]\n",
            " [sin(theta1) cos(alpha1)*cos(theta1) -sin(alpha1)*cos(theta1)\n",
            "  a1*sin(theta1)]\n",
            " [0 sin(alpha1) cos(alpha1) b1]\n",
            " [0 0 0 1]]\n"
          ]
        }
      ]
    },
    {
      "cell_type": "markdown",
      "source": [
        "### **Matriz T2**"
      ],
      "metadata": {
        "id": "iZe5QJbNmkLo"
      }
    },
    {
      "cell_type": "code",
      "source": [
        "T2 = Tb2 * Ttetha2 * Ta2 * Talpha2 \n",
        "\n",
        "print(\"\\nMatriz T2\\n\\n\", np.matrix(T2) )"
      ],
      "metadata": {
        "colab": {
          "base_uri": "https://localhost:8080/"
        },
        "id": "_NpIpeU0mkw0",
        "outputId": "659151f6-c2f7-4d56-9a8b-ab721d6c1006"
      },
      "execution_count": null,
      "outputs": [
        {
          "output_type": "stream",
          "name": "stdout",
          "text": [
            "\n",
            "Matriz T2\n",
            "\n",
            " [[cos(theta2) -sin(theta2)*cos(alpha2) sin(alpha2)*sin(theta2)\n",
            "  a2*cos(theta2)]\n",
            " [sin(theta2) cos(alpha2)*cos(theta2) -sin(alpha2)*cos(theta2)\n",
            "  a2*sin(theta2)]\n",
            " [0 sin(alpha2) cos(alpha2) b2]\n",
            " [0 0 0 1]]\n"
          ]
        }
      ]
    },
    {
      "cell_type": "markdown",
      "source": [
        "### **Matriz T3**"
      ],
      "metadata": {
        "id": "Ui6tJIGlmsPv"
      }
    },
    {
      "cell_type": "code",
      "source": [
        "T3 = Tb3 * Ttetha3 * Ta3 * Talpha3 \n",
        "\n",
        "print(\"\\nMatriz T3\\n\\n\", np.matrix(T3) )"
      ],
      "metadata": {
        "colab": {
          "base_uri": "https://localhost:8080/"
        },
        "id": "M6HjGnPhmwBq",
        "outputId": "7f48fc2a-930c-49c0-e976-9050e7455aeb"
      },
      "execution_count": null,
      "outputs": [
        {
          "output_type": "stream",
          "name": "stdout",
          "text": [
            "\n",
            "Matriz T3\n",
            "\n",
            " [[cos(theta3) -sin(theta3)*cos(alpha3) sin(alpha3)*sin(theta3)\n",
            "  a3*cos(theta3)]\n",
            " [sin(theta3) cos(alpha3)*cos(theta3) -sin(alpha3)*cos(theta3)\n",
            "  a3*sin(theta3)]\n",
            " [0 sin(alpha3) cos(alpha3) b3]\n",
            " [0 0 0 1]]\n"
          ]
        }
      ]
    },
    {
      "cell_type": "markdown",
      "source": [
        "## Reemplazando los valores en las matrices **T1, T2 y T3**\n",
        "\n",
        "\n",
        "CLASE\n",
        "THETA1 = SYMBOLIC,\n",
        "THETA2 = 90,\n",
        "THETA3 = 0\n",
        "\n",
        "\n",
        "ALPHA1 = 90,\n",
        "ALPHA2 = 0,\n",
        "ALPHA3 = 0\n",
        "\n",
        "b1 = 300,\n",
        "b2 = 0,\n",
        "b3 = 0\n",
        "\n",
        "a1 = 0,\n",
        "a2 = 250,\n",
        "a3 = 232"
      ],
      "metadata": {
        "id": "Tsz8r_A3m9Hx"
      }
    },
    {
      "cell_type": "code",
      "source": [
        "'''\n",
        "print(type(a1))\n",
        "print(type(a2))\n",
        "print(type(a3))\n",
        "print(type(b1))\n",
        "print(type(b2))\n",
        "print(type(b3))\n",
        "print(type(alpha1))\n",
        "print(type(alpha2))\n",
        "print(type(alpha3))\n",
        "print(type(theta1))\n",
        "print(type(theta2))\n",
        "print(type(theta3))\n",
        "'''\n",
        "\n",
        "valores = {a1: 0, a2: 250, a3: 232, b1: 300, b2: 0, b3: 0, alpha1: sym.pi/2, alpha2: 0, alpha3: 0}\n",
        "\n"
      ],
      "metadata": {
        "id": "JUZVkzLFnB8W"
      },
      "execution_count": null,
      "outputs": []
    },
    {
      "cell_type": "markdown",
      "source": [
        "### Matriz T1 con valores sustituidos"
      ],
      "metadata": {
        "id": "yCYZNmhbvdkT"
      }
    },
    {
      "cell_type": "code",
      "source": [
        "T1 = Tb1 * Ttetha1 * Ta1 * Talpha1\n",
        "\n",
        "T1_sub = T1.subs(valores)\n",
        "print(np.matrix(T1_sub))"
      ],
      "metadata": {
        "colab": {
          "base_uri": "https://localhost:8080/"
        },
        "id": "1HLoJXyJvgtw",
        "outputId": "27b39afb-ae94-4464-834f-eca3f6f1cc0f"
      },
      "execution_count": null,
      "outputs": [
        {
          "output_type": "stream",
          "name": "stdout",
          "text": [
            "[[cos(theta1) 0 sin(theta1) 0]\n",
            " [sin(theta1) 0 -cos(theta1) 0]\n",
            " [0 1 0 300]\n",
            " [0 0 0 1]]\n"
          ]
        }
      ]
    },
    {
      "cell_type": "markdown",
      "source": [
        "### Matriz T2 con valores sustituidos"
      ],
      "metadata": {
        "id": "vOCtOIasvvZk"
      }
    },
    {
      "cell_type": "code",
      "source": [
        "T2 = Tb2 * Ttetha2 * Ta2 * Talpha2\n",
        "\n",
        "T2_sub = T2.subs(valores)\n",
        "print(np.matrix(T2_sub))"
      ],
      "metadata": {
        "colab": {
          "base_uri": "https://localhost:8080/"
        },
        "id": "sxjFkNB_vwCw",
        "outputId": "6f26638c-6bb9-4753-fd53-832ecc49fce8"
      },
      "execution_count": null,
      "outputs": [
        {
          "output_type": "stream",
          "name": "stdout",
          "text": [
            "[[cos(theta2) -sin(theta2) 0 250*cos(theta2)]\n",
            " [sin(theta2) cos(theta2) 0 250*sin(theta2)]\n",
            " [0 0 1 0]\n",
            " [0 0 0 1]]\n"
          ]
        }
      ]
    },
    {
      "cell_type": "markdown",
      "source": [
        "### Matriz T3 con valores sustituidos"
      ],
      "metadata": {
        "id": "mi0xumnvvyCl"
      }
    },
    {
      "cell_type": "code",
      "source": [
        "T3 = Tb3 * Ttetha3 * Ta3 * Talpha3\n",
        "\n",
        "T3_sub = T3.subs(valores)\n",
        "print(np.matrix(T3_sub))"
      ],
      "metadata": {
        "colab": {
          "base_uri": "https://localhost:8080/"
        },
        "id": "b96XFSPqv2jx",
        "outputId": "53f6df50-f4b5-4ee2-f76a-bbb10c3c6fe5"
      },
      "execution_count": null,
      "outputs": [
        {
          "output_type": "stream",
          "name": "stdout",
          "text": [
            "[[cos(theta3) -sin(theta3) 0 232*cos(theta3)]\n",
            " [sin(theta3) cos(theta3) 0 232*sin(theta3)]\n",
            " [0 0 1 0]\n",
            " [0 0 0 1]]\n"
          ]
        }
      ]
    },
    {
      "cell_type": "markdown",
      "source": [
        "### Simplificamos las matrices **T1, T2 y T3**"
      ],
      "metadata": {
        "id": "nmM99nJyv5ws"
      }
    },
    {
      "cell_type": "code",
      "source": [
        "T1_simplified = sym.simplify(T1_sub)\n",
        "T2_simplified = sym.simplify(T2_sub)\n",
        "T3_simplified = sym.simplify(T3_sub)\n",
        "\n",
        "print(\"\\nMatriz T1 Simplificada\\n\\n\", np.matrix(T1_simplified))\n",
        "print(\"\\nMatriz T2 Simplificada\\n\\n\", np.matrix(T2_simplified))\n",
        "print(\"\\nMatriz T3 Simplificada\\n\\n\", np.matrix(T3_simplified))"
      ],
      "metadata": {
        "colab": {
          "base_uri": "https://localhost:8080/"
        },
        "id": "HSf9ozICv8uA",
        "outputId": "14e95056-87eb-40c1-88c8-859cf911a8d2"
      },
      "execution_count": null,
      "outputs": [
        {
          "output_type": "stream",
          "name": "stdout",
          "text": [
            "\n",
            "Matriz T1 Simplificada\n",
            "\n",
            " [[cos(theta1) 0 sin(theta1) 0]\n",
            " [sin(theta1) 0 -cos(theta1) 0]\n",
            " [0 1 0 300]\n",
            " [0 0 0 1]]\n",
            "\n",
            "Matriz T2 Simplificada\n",
            "\n",
            " [[cos(theta2) -sin(theta2) 0 250*cos(theta2)]\n",
            " [sin(theta2) cos(theta2) 0 250*sin(theta2)]\n",
            " [0 0 1 0]\n",
            " [0 0 0 1]]\n",
            "\n",
            "Matriz T3 Simplificada\n",
            "\n",
            " [[cos(theta3) -sin(theta3) 0 232*cos(theta3)]\n",
            " [sin(theta3) cos(theta3) 0 232*sin(theta3)]\n",
            " [0 0 1 0]\n",
            " [0 0 0 1]]\n"
          ]
        }
      ]
    },
    {
      "cell_type": "markdown",
      "source": [
        "### **Obtenemos la Matriz T**\n",
        "\n",
        "T = T1 * T2 * T3\n",
        "\n",
        "\n",
        "Reemplazamos los thetas\n",
        "\n",
        "theta1 = symbolic\n",
        "theta2 = 90\n",
        "theta3 = 0\n",
        "\n",
        "alpha1 = 90"
      ],
      "metadata": {
        "id": "2EyVkxElm9QA"
      }
    },
    {
      "cell_type": "code",
      "source": [
        "Tfinal = T1_simplified * T2_simplified * T3_simplified\n",
        "#print(\"\\nMatriz Tfinal\\n\\n\", np.matrix(Tfinal))\n",
        "\n",
        "\n",
        "valores = {a1: 0, a2: 250, a3: 232, b1: 300, b2: 0, b3: 0, alpha1: sym.pi/2, alpha2: 0, alpha3: 0}\n",
        "\n",
        "Tfinal_sub = Tfinal.subs(valores)\n",
        "\n",
        "\n",
        "TFinalSimplified = sym.simplify(Tfinal_sub)\n",
        "print(\"\\nMatriz Tfinal Simplificada\\n\\n\", np.matrix(TFinalSimplified))"
      ],
      "metadata": {
        "colab": {
          "base_uri": "https://localhost:8080/"
        },
        "id": "SwIgq3wnt79U",
        "outputId": "ab35c60f-2551-4f0c-a22e-60644753eb23"
      },
      "execution_count": null,
      "outputs": [
        {
          "output_type": "stream",
          "name": "stdout",
          "text": [
            "\n",
            "Matriz Tfinal Simplificada\n",
            "\n",
            " [[cos(theta1)*cos(theta2 + theta3) -sin(theta2 + theta3)*cos(theta1)\n",
            "  sin(theta1) 2*(125*cos(theta2) + 116*cos(theta2 + theta3))*cos(theta1)]\n",
            " [sin(theta1)*cos(theta2 + theta3) -sin(theta1)*sin(theta2 + theta3)\n",
            "  -cos(theta1) 2*(125*cos(theta2) + 116*cos(theta2 + theta3))*sin(theta1)]\n",
            " [sin(theta2 + theta3) cos(theta2 + theta3) 0\n",
            "  250*sin(theta2) + 232*sin(theta2 + theta3) + 300]\n",
            " [0 0 0 1]]\n"
          ]
        }
      ]
    },
    {
      "cell_type": "markdown",
      "source": [
        "### Obtenemos los ***fx, fy y fz***"
      ],
      "metadata": {
        "id": "N0kaSksJukxX"
      }
    },
    {
      "cell_type": "code",
      "source": [
        "fx = TFinalSimplified[0, 3]\n",
        "print(\"fx: \", fx)\n",
        "fy = TFinalSimplified[1, 3]\n",
        "print(\"fy: \", fy)\n",
        "fz = TFinalSimplified[2, 3]\n",
        "print(\"fz: \", fz)"
      ],
      "metadata": {
        "colab": {
          "base_uri": "https://localhost:8080/"
        },
        "id": "h51XmlJyuq51",
        "outputId": "1efc2783-bf30-4045-f6fd-a649bfd9a480"
      },
      "execution_count": null,
      "outputs": [
        {
          "output_type": "stream",
          "name": "stdout",
          "text": [
            "fx:  2*(125*cos(theta2) + 116*cos(theta2 + theta3))*cos(theta1)\n",
            "fy:  2*(125*cos(theta2) + 116*cos(theta2 + theta3))*sin(theta1)\n",
            "fz:  250*sin(theta2) + 232*sin(theta2 + theta3) + 300\n"
          ]
        }
      ]
    },
    {
      "cell_type": "markdown",
      "source": [
        "### Obtenemos la ***Matriz Jacobiana***"
      ],
      "metadata": {
        "id": "F_0exM8hvE0n"
      }
    },
    {
      "cell_type": "code",
      "source": [
        "dxtheta1 = sym.diff(fx, theta1)\n",
        "dxtheta2 = sym.diff(fx, theta2)\n",
        "dxtheta3 = sym.diff(fx, theta3)\n",
        "print(\"dxtheta 1: \", dxtheta1)\n",
        "print(\"\\ndxtheta 2: \", dxtheta2)\n",
        "print(\"\\ndxtheta 3: \", dxtheta3)\n",
        "\n",
        "dytheta1 = sym.diff(fy, theta1)\n",
        "dytheta2 = sym.diff(fy, theta2)\n",
        "dytheta3 = sym.diff(fy, theta3)\n",
        "print(\"\\n\\ndytheta 1: \", dytheta1)\n",
        "print(\"\\ndytheta 2: \", dytheta2)\n",
        "print(\"\\ndytheta 3: \", dytheta3)\n",
        "\n",
        "dztheta1 = sym.diff(fz, theta1)\n",
        "dztheta2 = sym.diff(fz, theta2)\n",
        "dztheta3 = sym.diff(fz, theta3)\n",
        "print(\"\\n\\ndztheta 1: \", dztheta1)\n",
        "print(\"\\ndztheta 2: \", dztheta2)\n",
        "print(\"\\ndztheta 3: \", dztheta3)\n"
      ],
      "metadata": {
        "colab": {
          "base_uri": "https://localhost:8080/"
        },
        "id": "kLR5-G8qvKFR",
        "outputId": "c2154b5b-a850-49ab-b7ef-88b3b8d83fb7"
      },
      "execution_count": null,
      "outputs": [
        {
          "output_type": "stream",
          "name": "stdout",
          "text": [
            "dxtheta 1:  -2*(125*cos(theta2) + 116*cos(theta2 + theta3))*sin(theta1)\n",
            "\n",
            "dxtheta 2:  2*(-125*sin(theta2) - 116*sin(theta2 + theta3))*cos(theta1)\n",
            "\n",
            "dxtheta 3:  -232*sin(theta2 + theta3)*cos(theta1)\n",
            "\n",
            "\n",
            "dytheta 1:  2*(125*cos(theta2) + 116*cos(theta2 + theta3))*cos(theta1)\n",
            "\n",
            "dytheta 2:  2*(-125*sin(theta2) - 116*sin(theta2 + theta3))*sin(theta1)\n",
            "\n",
            "dytheta 3:  -232*sin(theta1)*sin(theta2 + theta3)\n",
            "\n",
            "\n",
            "dztheta 1:  0\n",
            "\n",
            "dztheta 2:  250*cos(theta2) + 232*cos(theta2 + theta3)\n",
            "\n",
            "dztheta 3:  232*cos(theta2 + theta3)\n"
          ]
        }
      ]
    },
    {
      "cell_type": "code",
      "source": [
        "Jac = sym.Matrix([ [dxtheta1, dxtheta2, dxtheta3], \n",
        "               [dytheta1, dytheta2, dytheta3],\n",
        "               [dztheta1, dztheta2, dztheta3] ])\n",
        "\n",
        "print(\"\\nMatriz Jacobiana\\n\\n\", np.matrix(Jac) )"
      ],
      "metadata": {
        "colab": {
          "base_uri": "https://localhost:8080/"
        },
        "id": "cIZAQ9ByxLTm",
        "outputId": "1bfc1cec-1cf2-4251-c318-a1c9d8e1c44b"
      },
      "execution_count": null,
      "outputs": [
        {
          "output_type": "stream",
          "name": "stdout",
          "text": [
            "\n",
            "Matriz Jacobiana\n",
            "\n",
            " [[-2*(125*cos(theta2) + 116*cos(theta2 + theta3))*sin(theta1)\n",
            "  2*(-125*sin(theta2) - 116*sin(theta2 + theta3))*cos(theta1)\n",
            "  -232*sin(theta2 + theta3)*cos(theta1)]\n",
            " [2*(125*cos(theta2) + 116*cos(theta2 + theta3))*cos(theta1)\n",
            "  2*(-125*sin(theta2) - 116*sin(theta2 + theta3))*sin(theta1)\n",
            "  -232*sin(theta1)*sin(theta2 + theta3)]\n",
            " [0 250*cos(theta2) + 232*cos(theta2 + theta3) 232*cos(theta2 + theta3)]]\n"
          ]
        }
      ]
    },
    {
      "cell_type": "code",
      "source": [
        "JacobianaSimplificada = sym.simplify(Jac)\n",
        "print(\"\\nMatriz Jacobiana Simplificada\\n\\n\", np.matrix(JacobianaSimplificada) )"
      ],
      "metadata": {
        "colab": {
          "base_uri": "https://localhost:8080/"
        },
        "id": "n28FIIzxOh8T",
        "outputId": "729af6c2-9cf9-4bd6-aaf2-1e3179bdb1d5"
      },
      "execution_count": null,
      "outputs": [
        {
          "output_type": "stream",
          "name": "stdout",
          "text": [
            "\n",
            "Matriz Jacobiana Simplificada\n",
            "\n",
            " [[-2*(125*cos(theta2) + 116*cos(theta2 + theta3))*sin(theta1)\n",
            "  -2*(125*sin(theta2) + 116*sin(theta2 + theta3))*cos(theta1)\n",
            "  -232*sin(theta2 + theta3)*cos(theta1)]\n",
            " [2*(125*cos(theta2) + 116*cos(theta2 + theta3))*cos(theta1)\n",
            "  -2*(125*sin(theta2) + 116*sin(theta2 + theta3))*sin(theta1)\n",
            "  -232*sin(theta1)*sin(theta2 + theta3)]\n",
            " [0 250*cos(theta2) + 232*cos(theta2 + theta3) 232*cos(theta2 + theta3)]]\n"
          ]
        }
      ]
    },
    {
      "cell_type": "markdown",
      "source": [
        "### Reemplazando valores en la **Matriz Jacobiana Final**"
      ],
      "metadata": {
        "id": "xRnsbViLwkg4"
      }
    },
    {
      "cell_type": "code",
      "source": [
        "valores = {a1: 0, a2: 250, a3: 232, b1: 300, b2: 0, b3: 0, theta1: 0, theta3: 0, alpha1: sym.pi/2, alpha2: 0, alpha3: 0}\n",
        "\n",
        "JacobianaSimplificada = Tfinal.subs(valores)\n",
        "\n",
        "print(\"\\nMatriz Tfinal Simplificada\\n\\n\", np.matrix(JacobianaSimplificada))\n",
        "print(\"\\nMatriz Tfinal Simplificada\\n\\n\", sym.simplify(np.matrix(JacobianaSimplificada)) )"
      ],
      "metadata": {
        "colab": {
          "base_uri": "https://localhost:8080/"
        },
        "id": "31RCSSD3wlxD",
        "outputId": "d27fa359-9a40-44aa-8acd-c61b7022696d"
      },
      "execution_count": null,
      "outputs": [
        {
          "output_type": "stream",
          "name": "stdout",
          "text": [
            "\n",
            "Matriz Tfinal Simplificada\n",
            "\n",
            " [[cos(theta2) -sin(theta2) 0 482*cos(theta2)]\n",
            " [0 0 -1 0]\n",
            " [sin(theta2) cos(theta2) 0 482*sin(theta2) + 300]\n",
            " [0 0 0 1]]\n",
            "\n",
            "Matriz Tfinal Simplificada\n",
            "\n",
            " [[cos(theta2), -sin(theta2), 0, 482*cos(theta2)], [0, 0, -1, 0], [sin(theta2), cos(theta2), 0, 482*sin(theta2) + 300], [0, 0, 0, 1]]\n"
          ]
        }
      ]
    },
    {
      "cell_type": "markdown",
      "source": [
        "### Finalmente, obtenemos los $ \\dot{x}, \\dot{y}$ y $ \\dot{z} $\n",
        "\n"
      ],
      "metadata": {
        "id": "a1T663Ho0wFk"
      }
    },
    {
      "cell_type": "code",
      "source": [
        "x_derivada = JacobianaSimplificada[0, :] #J.row(0)\n",
        "y_derivada = JacobianaSimplificada[1, :] #J.row(1)\n",
        "z_derivada = JacobianaSimplificada[2, :] #J.row(2)\n",
        "\n",
        "print(\"x derivada: \", x_derivada)\n",
        "print(\"\\ny derivada: \", y_derivada)\n",
        "print(\"\\nz derivada: \", z_derivada)\n"
      ],
      "metadata": {
        "colab": {
          "base_uri": "https://localhost:8080/"
        },
        "id": "6awo4rFq1PGN",
        "outputId": "02fdb841-a8df-4657-8188-25a9f1655950"
      },
      "execution_count": null,
      "outputs": [
        {
          "output_type": "stream",
          "name": "stdout",
          "text": [
            "x derivada:  Matrix([[cos(theta2), -sin(theta2), 0, 482*cos(theta2)]])\n",
            "\n",
            "y derivada:  Matrix([[0, 0, -1, 0]])\n",
            "\n",
            "z derivada:  Matrix([[sin(theta2), cos(theta2), 0, 482*sin(theta2) + 300]])\n"
          ]
        }
      ]
    },
    {
      "cell_type": "markdown",
      "source": [
        "## **FIN DEL PROGRAMA**"
      ],
      "metadata": {
        "id": "YUGZmAqN4vTd"
      }
    }
  ],
  "metadata": {
    "kernelspec": {
      "display_name": "Python 3",
      "language": "python",
      "name": "python3"
    },
    "language_info": {
      "codemirror_mode": {
        "name": "ipython",
        "version": 3
      },
      "file_extension": ".py",
      "mimetype": "text/x-python",
      "name": "python",
      "nbconvert_exporter": "python",
      "pygments_lexer": "ipython3",
      "version": "3.11.2"
    },
    "orig_nbformat": 4,
    "colab": {
      "provenance": []
    }
  },
  "nbformat": 4,
  "nbformat_minor": 0
}